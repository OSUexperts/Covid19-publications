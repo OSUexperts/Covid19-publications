{
 "cells": [
  {
   "cell_type": "markdown",
   "id": "abd192ee",
   "metadata": {},
   "source": [
    "# Publication Topic Analysis \n",
    "\n",
    "## Objective\n",
    "### A descriptive study of publications across OSU have been performed to understand the variety and depth of research across the university regarding Covid-19.\n",
    "\n",
    "## Data Source\n",
    "### Elements Coronavirus Publications report\n",
    "\n",
    "## Scope of Analysis\n",
    "### TimeFrame: 3/1/2020 - Present"
   ]
  },
  {
   "cell_type": "code",
   "execution_count": null,
   "id": "94d65d83",
   "metadata": {},
   "outputs": [],
   "source": []
  },
  {
   "cell_type": "markdown",
   "id": "b45266b7",
   "metadata": {},
   "source": [
    "### Importing required packages"
   ]
  },
  {
   "cell_type": "code",
   "execution_count": 60,
   "id": "a29a541b",
   "metadata": {},
   "outputs": [
    {
     "name": "stderr",
     "output_type": "stream",
     "text": [
      "C:\\Users\\ammitra\\anaconda3\\lib\\site-packages\\ipykernel\\ipkernel.py:287: DeprecationWarning: `should_run_async` will not call `transform_cell` automatically in the future. Please pass the result to `transformed_cell` argument and any exception that happen during thetransform in `preprocessing_exc_tuple` in IPython 7.17 and above.\n",
      "  and should_run_async(code)\n"
     ]
    }
   ],
   "source": [
    "import pandas as pd\n",
    "import string\n",
    "import numpy as np\n",
    "import matplotlib.pyplot as plt\n",
    "from matplotlib.pyplot import figure\n",
    "from matplotlib import cm\n",
    "from mycolorpy import colorlist as mcp\n",
    "import squarify "
   ]
  },
  {
   "cell_type": "markdown",
   "id": "201d93d6",
   "metadata": {
    "collapsed": true
   },
   "source": [
    "### Importing the base dataset"
   ]
  },
  {
   "cell_type": "code",
   "execution_count": 61,
   "id": "d579a673",
   "metadata": {},
   "outputs": [
    {
     "name": "stderr",
     "output_type": "stream",
     "text": [
      "C:\\Users\\ammitra\\anaconda3\\lib\\site-packages\\ipykernel\\ipkernel.py:287: DeprecationWarning: `should_run_async` will not call `transform_cell` automatically in the future. Please pass the result to `transformed_cell` argument and any exception that happen during thetransform in `preprocessing_exc_tuple` in IPython 7.17 and above.\n",
      "  and should_run_async(code)\n"
     ]
    }
   ],
   "source": [
    "df = pd.read_csv(r'C:\\Users\\ammitra\\OneDrive - Oklahoma A and M System\\Experts\\Coronavirus_Output\\Data\\Coronavirus Publications - generated 2021-12-09 10-34.csv')"
   ]
  },
  {
   "cell_type": "markdown",
   "id": "d574b44e",
   "metadata": {
    "collapsed": true
   },
   "source": [
    "### Data Cleaning Operations\n",
    "#### a) Subset all publications after March 1st 2020 based on Publication date.\n",
    "#### b) The title and abstract column have been cleaned to remove punctuations and convert them to lowercase. The extra white spaces have also been removed.\n",
    "#### c) Author's department name has been combined with their First and Last Name.\n",
    "#### d) The topic and abstract column have been combined for performing topic modelling on it."
   ]
  },
  {
   "cell_type": "code",
   "execution_count": 62,
   "id": "ec687a6d",
   "metadata": {},
   "outputs": [
    {
     "name": "stderr",
     "output_type": "stream",
     "text": [
      "C:\\Users\\ammitra\\anaconda3\\lib\\site-packages\\ipykernel\\ipkernel.py:287: DeprecationWarning: `should_run_async` will not call `transform_cell` automatically in the future. Please pass the result to `transformed_cell` argument and any exception that happen during thetransform in `preprocessing_exc_tuple` in IPython 7.17 and above.\n",
      "  and should_run_async(code)\n"
     ]
    }
   ],
   "source": [
    "df['publication-date'] = pd.to_datetime(df['publication-date'])\n",
    "df = df[df['publication-date'] >= '3/1/2020']"
   ]
  },
  {
   "cell_type": "code",
   "execution_count": 63,
   "id": "72640e17",
   "metadata": {
    "scrolled": false
   },
   "outputs": [
    {
     "name": "stderr",
     "output_type": "stream",
     "text": [
      "C:\\Users\\ammitra\\anaconda3\\lib\\site-packages\\ipykernel\\ipkernel.py:287: DeprecationWarning: `should_run_async` will not call `transform_cell` automatically in the future. Please pass the result to `transformed_cell` argument and any exception that happen during thetransform in `preprocessing_exc_tuple` in IPython 7.17 and above.\n",
      "  and should_run_async(code)\n",
      "<ipython-input-63-9bcdb0035466>:1: FutureWarning: The default value of regex will change from True to False in a future version.\n",
      "  df['title_cleaned'] = df['title'].str.replace('[{}]'.format(string.punctuation), '').str.lower()\n",
      "<ipython-input-63-9bcdb0035466>:6: FutureWarning: The default value of regex will change from True to False in a future version.\n",
      "  df_topic['abs_cleaned'] = df_topic['abstract'].str.replace('[{}]'.format(string.punctuation), '').str.lower()\n",
      "<ipython-input-63-9bcdb0035466>:6: SettingWithCopyWarning: \n",
      "A value is trying to be set on a copy of a slice from a DataFrame.\n",
      "Try using .loc[row_indexer,col_indexer] = value instead\n",
      "\n",
      "See the caveats in the documentation: https://pandas.pydata.org/pandas-docs/stable/user_guide/indexing.html#returning-a-view-versus-a-copy\n",
      "  df_topic['abs_cleaned'] = df_topic['abstract'].str.replace('[{}]'.format(string.punctuation), '').str.lower()\n",
      "<ipython-input-63-9bcdb0035466>:7: SettingWithCopyWarning: \n",
      "A value is trying to be set on a copy of a slice from a DataFrame.\n",
      "Try using .loc[row_indexer,col_indexer] = value instead\n",
      "\n",
      "See the caveats in the documentation: https://pandas.pydata.org/pandas-docs/stable/user_guide/indexing.html#returning-a-view-versus-a-copy\n",
      "  df_topic['abs_cleaned'] = df_topic['abs_cleaned'].str.strip()\n",
      "C:\\Users\\ammitra\\anaconda3\\lib\\site-packages\\pandas\\core\\generic.py:5494: SettingWithCopyWarning: \n",
      "A value is trying to be set on a copy of a slice from a DataFrame.\n",
      "Try using .loc[row_indexer,col_indexer] = value instead\n",
      "\n",
      "See the caveats in the documentation: https://pandas.pydata.org/pandas-docs/stable/user_guide/indexing.html#returning-a-view-versus-a-copy\n",
      "  self[name] = value\n",
      "<ipython-input-63-9bcdb0035466>:9: SettingWithCopyWarning: \n",
      "A value is trying to be set on a copy of a slice from a DataFrame.\n",
      "Try using .loc[row_indexer,col_indexer] = value instead\n",
      "\n",
      "See the caveats in the documentation: https://pandas.pydata.org/pandas-docs/stable/user_guide/indexing.html#returning-a-view-versus-a-copy\n",
      "  df_topic['topic_abstract'] = df_topic['title_cleaned']  + df_topic['abs_cleaned']\n"
     ]
    }
   ],
   "source": [
    "df['title_cleaned'] = df['title'].str.replace('[{}]'.format(string.punctuation), '').str.lower()\n",
    "df['title_cleaned'] = df['title_cleaned'].str.strip()\n",
    "df['Full Name'] = df['First Name'] +' '+df['Last Name']+ ' ( '+ df['Primary Group Descriptor']+' ) '\n",
    "\n",
    "df_topic = df[['ID','Publication ID','title_cleaned','abstract']]\n",
    "df_topic['abs_cleaned'] = df_topic['abstract'].str.replace('[{}]'.format(string.punctuation), '').str.lower()\n",
    "df_topic['abs_cleaned'] = df_topic['abs_cleaned'].str.strip()\n",
    "df_topic.abs_cleaned = df_topic.abs_cleaned.fillna('')\n",
    "df_topic['topic_abstract'] = df_topic['title_cleaned']  + df_topic['abs_cleaned']"
   ]
  },
  {
   "cell_type": "markdown",
   "id": "2da324be",
   "metadata": {
    "collapsed": true
   },
   "source": [
    "### Topic Modelling\n",
    "#### Algorithm: Latent Dirichlet Allocation (LDA): A statistical model which helps distribute the documents into a fixed number of topics.\n",
    "\n",
    "#### Source: https://towardsdatascience.com/light-on-math-machine-learning-intuitive-guide-to-latent-dirichlet-allocation-437c81220158"
   ]
  },
  {
   "cell_type": "code",
   "execution_count": null,
   "id": "96ffdb78",
   "metadata": {},
   "outputs": [],
   "source": []
  },
  {
   "cell_type": "markdown",
   "id": "c9c01c5a",
   "metadata": {},
   "source": [
    "### Importing required packages"
   ]
  },
  {
   "cell_type": "code",
   "execution_count": 64,
   "id": "d0ca20ee",
   "metadata": {},
   "outputs": [
    {
     "name": "stderr",
     "output_type": "stream",
     "text": [
      "C:\\Users\\ammitra\\anaconda3\\lib\\site-packages\\ipykernel\\ipkernel.py:287: DeprecationWarning: `should_run_async` will not call `transform_cell` automatically in the future. Please pass the result to `transformed_cell` argument and any exception that happen during thetransform in `preprocessing_exc_tuple` in IPython 7.17 and above.\n",
      "  and should_run_async(code)\n"
     ]
    }
   ],
   "source": [
    "import re\n",
    "import numpy as np\n",
    "import pandas as pd\n",
    "from pprint import pprint\n",
    "\n",
    "# Gensim\n",
    "import gensim\n",
    "import gensim.corpora as corpora\n",
    "from gensim.utils import simple_preprocess\n",
    "from gensim.models import CoherenceModel\n",
    "\n",
    "# spacy for lemmatization\n",
    "import spacy\n",
    "\n",
    "# Plotting tools\n",
    "#import pyLDAvis\n",
    "#import pyLDAvis.gensim  # don't skip this\n",
    "import matplotlib.pyplot as plt\n",
    "%matplotlib inline\n",
    "\n",
    "# Enable logging for gensim - optional\n",
    "import logging\n",
    "logging.basicConfig(format='%(asctime)s : %(levelname)s : %(message)s', level=logging.ERROR)\n",
    "\n",
    "import warnings\n",
    "warnings.filterwarnings(\"ignore\",category=DeprecationWarning)"
   ]
  },
  {
   "cell_type": "markdown",
   "id": "dc788ab4",
   "metadata": {},
   "source": [
    "### Removing Stopwords"
   ]
  },
  {
   "cell_type": "code",
   "execution_count": 65,
   "id": "1e949aec",
   "metadata": {},
   "outputs": [],
   "source": [
    "# NLTK Stop words\n",
    "from nltk.corpus import stopwords\n",
    "stop_words = stopwords.words('english')"
   ]
  },
  {
   "cell_type": "markdown",
   "id": "5a7fb352",
   "metadata": {},
   "source": [
    "### Preprocessing text for Modelling"
   ]
  },
  {
   "cell_type": "code",
   "execution_count": 66,
   "id": "80d20ff9",
   "metadata": {
    "scrolled": true
   },
   "outputs": [],
   "source": [
    "data = df_topic.topic_abstract.values.tolist()\n",
    "\n",
    "def sent_to_words(sentences):\n",
    "    for sentence in sentences:\n",
    "        yield(gensim.utils.simple_preprocess(str(sentence), deacc=True))  # deacc=True removes punctuations\n",
    "\n",
    "data_words = list(sent_to_words(data))\n",
    "\n",
    "#print(data_words[:1])"
   ]
  },
  {
   "cell_type": "markdown",
   "id": "dcaa62a1",
   "metadata": {},
   "source": [
    "### Identifying phrases through bigrams and trigrams"
   ]
  },
  {
   "cell_type": "code",
   "execution_count": 67,
   "id": "7220755b",
   "metadata": {},
   "outputs": [],
   "source": [
    "# Build the bigram and trigram models\n",
    "bigram = gensim.models.Phrases(data_words, min_count=5, threshold=50) # higher threshold fewer phrases.\n",
    "trigram = gensim.models.Phrases(bigram[data_words], threshold=50)  \n",
    "\n",
    "# Faster way to get a sentence clubbed as a trigram/bigram\n",
    "bigram_mod = gensim.models.phrases.Phraser(bigram)\n",
    "trigram_mod = gensim.models.phrases.Phraser(trigram)\n"
   ]
  },
  {
   "cell_type": "markdown",
   "id": "34499f8a",
   "metadata": {},
   "source": [
    "### Defining functions for Text Cleaning"
   ]
  },
  {
   "cell_type": "code",
   "execution_count": 68,
   "id": "38716ef6",
   "metadata": {},
   "outputs": [],
   "source": [
    "# Define functions for stopwords, bigrams, trigrams and lemmatization\n",
    "def remove_stopwords(texts):\n",
    "    return [[word for word in simple_preprocess(str(doc)) if word not in stop_words] for doc in texts]\n",
    "\n",
    "def make_bigrams(texts):\n",
    "    return [bigram_mod[doc] for doc in texts]\n",
    "\n",
    "def make_trigrams(texts):\n",
    "    return [trigram_mod[bigram_mod[doc]] for doc in texts]\n",
    "\n",
    "def lemmatization(texts, allowed_postags=['NOUN', 'ADJ', 'VERB', 'ADV']):\n",
    "    \"\"\"https://spacy.io/api/annotation\"\"\"\n",
    "    texts_out = []\n",
    "    for sent in texts:\n",
    "        doc = nlp(\" \".join(sent)) \n",
    "        texts_out.append([token.lemma_ for token in doc if token.pos_ in allowed_postags])\n",
    "    return texts_out"
   ]
  },
  {
   "cell_type": "code",
   "execution_count": 69,
   "id": "77d88e39",
   "metadata": {},
   "outputs": [],
   "source": [
    "# Remove Stop Words\n",
    "data_words_nostops = remove_stopwords(data_words)\n",
    "\n",
    "# Form Bigrams\n",
    "data_words_bigrams = make_bigrams(data_words_nostops)\n",
    "\n",
    "# Initialize spacy 'en' model, keeping only tagger component (for efficiency)\n",
    "# python3 -m spacy download en\n",
    "nlp = spacy.load('en_core_web_sm', disable=['parser', 'ner'])\n",
    "\n",
    "# Do lemmatization keeping only noun, adj, vb, adv\n",
    "data_lemmatized = lemmatization(data_words_bigrams, allowed_postags=['NOUN', 'ADJ', 'VERB', 'ADV'])\n",
    "\n",
    "#print(data_lemmatized[:1])"
   ]
  },
  {
   "cell_type": "markdown",
   "id": "4cca07cc",
   "metadata": {},
   "source": [
    "### Creating the bag of words model to represent the text"
   ]
  },
  {
   "cell_type": "code",
   "execution_count": 70,
   "id": "b056a3e3",
   "metadata": {},
   "outputs": [],
   "source": [
    "# Create Dictionary\n",
    "id2word = corpora.Dictionary(data_lemmatized)\n",
    "\n",
    "# Create Corpus\n",
    "texts = data_lemmatized\n",
    "\n",
    "# Term Document Frequency\n",
    "corpus = [id2word.doc2bow(text) for text in texts]\n",
    "\n",
    "# View\n",
    "#print(corpus[:1])"
   ]
  },
  {
   "cell_type": "code",
   "execution_count": 71,
   "id": "5597bdfb",
   "metadata": {
    "scrolled": false
   },
   "outputs": [
    {
     "data": {
      "text/plain": [
       "[[('also', 1),\n",
       "  ('analysis', 1),\n",
       "  ('associate', 1),\n",
       "  ('current', 1),\n",
       "  ('detect', 1),\n",
       "  ('different', 1),\n",
       "  ('different_geographical', 1),\n",
       "  ('essential', 1),\n",
       "  ('flexibility', 1),\n",
       "  ('gene', 3),\n",
       "  ('gene_possibly', 1),\n",
       "  ('genomes_showe', 1),\n",
       "  ('identify', 1),\n",
       "  ('include', 1),\n",
       "  ('indicate', 1),\n",
       "  ('influences_conformational', 1),\n",
       "  ('location', 1),\n",
       "  ('motion', 1),\n",
       "  ('mutation', 3),\n",
       "  ('oklahoma_unite', 2),\n",
       "  ('orf', 1),\n",
       "  ('pandemic', 3),\n",
       "  ('pathogenicity', 1),\n",
       "  ('peak', 1),\n",
       "  ('presence', 1),\n",
       "  ('report', 2),\n",
       "  ('role', 1),\n",
       "  ('sarscov_viruse', 2),\n",
       "  ('sequence', 1),\n",
       "  ('sequenced_previously', 1),\n",
       "  ('similarity', 1),\n",
       "  ('state', 3),\n",
       "  ('statesgenomic_sequence', 1),\n",
       "  ('study', 2),\n",
       "  ('time_point', 1),\n",
       "  ('understand', 1)]]"
      ]
     },
     "execution_count": 71,
     "metadata": {},
     "output_type": "execute_result"
    }
   ],
   "source": [
    "# Human readable format of corpus (term-frequency)\n",
    "[[(id2word[id], freq) for id, freq in cp] for cp in corpus[:1]]"
   ]
  },
  {
   "cell_type": "markdown",
   "id": "4f0d3a4b",
   "metadata": {},
   "source": [
    "### Developing the LDA Model with the Bag of words representation\n",
    "\n",
    "### Model Parameters:\n",
    "#### corpus: Bag of words corpus\n",
    "#### id2word: Mapping of word-id to a token\n",
    "#### num_topics: Specified number of latent topics\n",
    "#### chunksize: Number of documents to be used in each training chunk\n",
    "#### update_every: Number of documents to be iterated through for each update\n",
    "#### passes: Number of passes through the corpus during training\n",
    "#### alpha: A-priori belief on document-topic distribution\n",
    "#### per_word_topics: the model computes a list of topics, sorted in descending order of most likely topics for each word\n",
    "\n",
    "#### Model Information: https://radimrehurek.com/gensim/models/ldamodel.html"
   ]
  },
  {
   "cell_type": "code",
   "execution_count": 72,
   "id": "0ef4140f",
   "metadata": {},
   "outputs": [],
   "source": [
    "# Build LDA model\n",
    "lda_model = gensim.models.ldamodel.LdaModel(corpus=corpus,\n",
    "                                           id2word=id2word,\n",
    "                                           num_topics=6, \n",
    "                                           random_state=100,\n",
    "                                           update_every=1,\n",
    "                                           chunksize=100,\n",
    "                                           passes=10,\n",
    "                                           alpha='auto',\n",
    "                                           per_word_topics=True)"
   ]
  },
  {
   "cell_type": "markdown",
   "id": "f6700dad",
   "metadata": {},
   "source": [
    "### Identifying Top 10 words in each topic"
   ]
  },
  {
   "cell_type": "code",
   "execution_count": 73,
   "id": "73514aa7",
   "metadata": {
    "scrolled": true
   },
   "outputs": [
    {
     "name": "stdout",
     "output_type": "stream",
     "text": [
      "[(0,\n",
      "  '0.020*\"covid\" + 0.009*\"individual\" + 0.009*\"case\" + 0.009*\"state\" + '\n",
      "  '0.009*\"vaccine\" + 0.008*\"analysis\" + 0.008*\"pandemic\" + 0.008*\"patient\" + '\n",
      "  '0.007*\"impact\" + 0.007*\"symptom\"'),\n",
      " (1,\n",
      "  '0.016*\"use\" + 0.015*\"covid\" + 0.012*\"news\" + 0.009*\"trust\" + '\n",
      "  '0.008*\"pandemic\" + 0.008*\"prejudice\" + 0.008*\"result\" + 0.007*\"high\" + '\n",
      "  '0.007*\"livestock\" + 0.007*\"wellbeing\"'),\n",
      " (2,\n",
      "  '0.014*\"find\" + 0.012*\"firm\" + 0.011*\"study\" + 0.011*\"bocv\" + '\n",
      "  '0.011*\"negative\" + 0.010*\"however\" + 0.010*\"pandemic\" + 0.010*\"viral\" + '\n",
      "  '0.009*\"calf\" + 0.009*\"virus\"'),\n",
      " (3,\n",
      "  '0.024*\"covid\" + 0.022*\"discrimination\" + 0.016*\"experience\" + 0.012*\"use\" + '\n",
      "  '0.011*\"pandemic\" + 0.009*\"study\" + 0.008*\"teacher\" + 0.007*\"community\" + '\n",
      "  '0.007*\"people\" + 0.007*\"future\"'),\n",
      " (4,\n",
      "  '0.023*\"covid\" + 0.023*\"clinical\" + 0.019*\"disease\" + 0.019*\"sample\" + '\n",
      "  '0.015*\"use\" + 0.013*\"infection\" + 0.012*\"study\" + 0.011*\"pool\" + '\n",
      "  '0.009*\"result\" + 0.007*\"observe\"'),\n",
      " (5,\n",
      "  '0.022*\"pandemic\" + 0.022*\"covid\" + 0.011*\"study\" + 0.010*\"vaccine\" + '\n",
      "  '0.009*\"state\" + 0.008*\"report\" + 0.008*\"mutation\" + 0.007*\"gene\" + '\n",
      "  '0.007*\"current\" + 0.006*\"mask\"')]\n"
     ]
    }
   ],
   "source": [
    "# Print the Keyword in the 10 topics\n",
    "pprint(lda_model.print_topics())\n",
    "doc_lda = lda_model[corpus]"
   ]
  },
  {
   "cell_type": "markdown",
   "id": "be34dde4",
   "metadata": {},
   "source": [
    "### Visual Representation of the topics"
   ]
  },
  {
   "cell_type": "code",
   "execution_count": 74,
   "id": "a00c3a68",
   "metadata": {
    "scrolled": false
   },
   "outputs": [
    {
     "data": {
      "text/html": [
       "\n",
       "<link rel=\"stylesheet\" type=\"text/css\" href=\"https://cdn.jsdelivr.net/gh/bmabey/pyLDAvis@3.3.1/pyLDAvis/js/ldavis.v1.0.0.css\">\n",
       "\n",
       "\n",
       "<div id=\"ldavis_el1181627899333752642114887312\"></div>\n",
       "<script type=\"text/javascript\">\n",
       "\n",
       "var ldavis_el1181627899333752642114887312_data = {\"mdsDat\": {\"x\": [-0.03647900894315808, -0.06491918117347509, 0.05238093600538496, -0.09616834404162222, 0.24577851017643934, -0.1005929120235692], \"y\": [0.024137689621919003, -0.047515863714236446, 0.18342163197937358, -0.13210272712633003, -0.078894235976657, 0.050953505215930915], \"topics\": [1, 2, 3, 4, 5, 6], \"cluster\": [1, 1, 1, 1, 1, 1], \"Freq\": [15.687733819315017, 13.714957254412221, 9.825464863276904, 19.248013008344373, 15.513824057424596, 26.010006997226892]}, \"tinfo\": {\"Term\": [\"discrimination\", \"clinical\", \"sample\", \"disease\", \"experience\", \"vaccine\", \"infection\", \"pool\", \"news\", \"state\", \"use\", \"firm\", \"find\", \"bocv\", \"viral\", \"negative\", \"mutation\", \"however\", \"trust\", \"teacher\", \"response\", \"individual\", \"virus\", \"calf\", \"livestock\", \"price\", \"prejudice\", \"bovine\", \"pathogenesis\", \"gene\", \"gain\", \"weight\", \"stress\", \"eating_disord\", \"lgbtq\", \"stroke\", \"begin\", \"moreover\", \"symptom\", \"ltcfs\", \"adoption\", \"socially\", \"pandemicrelate\", \"lottery\", \"ischemic\", \"vulnerability\", \"policymaker\", \"helpful\", \"attention\", \"sex\", \"violence\", \"protective\", \"partner\", \"spatiotemporal\", \"big\", \"worldwide\", \"cost\", \"cancel\", \"immunity\", \"conference\", \"regulation\", \"patient\", \"individual\", \"insight\", \"statewide\", \"infectious\", \"case\", \"design\", \"social\", \"analysis\", \"perceive\", \"state\", \"behavior\", \"vaccine\", \"covid\", \"impact\", \"infection\", \"difference\", \"model\", \"pandemic\", \"spread\", \"disease\", \"provide\", \"increase\", \"result\", \"people\", \"may\", \"method\", \"study\", \"use\", \"prejudice\", \"rural\", \"county\", \"trust\", \"percentage\", \"subjective\", \"wellbeing\", \"rurality\", \"sector\", \"messaging\", \"outlet\", \"ban\", \"import\", \"somaliland\", \"traditional\", \"household\", \"revenue\", \"news\", \"room\", \"norm\", \"digital\", \"discourse\", \"frequent\", \"leftleane\", \"contrast\", \"uptick\", \"depend\", \"indicator\", \"hajj\", \"restricted\", \"student\", \"area\", \"face\", \"countylevel\", \"contribute\", \"government\", \"loss\", \"racial\", \"livestock\", \"highlight\", \"use\", \"medium\", \"relationship\", \"high\", \"covid\", \"result\", \"case\", \"level\", \"daily\", \"pandemic\", \"low\", \"associate\", \"may\", \"study\", \"people\", \"firm\", \"bocv\", \"calf\", \"bovine\", \"price\", \"hotel\", \"stock\", \"pathogenesis\", \"sme\", \"inoculate\", \"cash_reserve\", \"alone\", \"later\", \"bvdv\", \"isolate\", \"dualinfection\", \"dual\", \"diarrhea_virus\", \"market\", \"industry\", \"airline\", \"restaurant\", \"markettobook\", \"travelrelate\", \"clearly\", \"penalize\", \"dramatically\", \"couple\", \"partial\", \"cattle\", \"tissue\", \"travel\", \"lesion\", \"collect\", \"however\", \"find\", \"strain\", \"viral\", \"virus\", \"respiratory\", \"negative\", \"response\", \"important\", \"group\", \"pathogenicity\", \"infection\", \"study\", \"increase\", \"pandemic\", \"covid\", \"result\", \"use\", \"clinical\", \"discrimination\", \"teacher\", \"curriculum\", \"worry\", \"mapping\", \"supply_chain\", \"cultural\", \"box\", \"child\", \"depression\", \"preservice\", \"racismrelate\", \"everyday\", \"wellness\", \"call\", \"family\", \"asthma\", \"consciousness\", \"heightened\", \"activate\", \"indigenous\", \"facilitate\", \"depressive_symptom\", \"strength\", \"little\", \"bipoc\", \"mindset\", \"tutoring\", \"school\", \"point\", \"prepare\", \"experience\", \"community\", \"activity\", \"practice\", \"time\", \"online\", \"often\", \"asian\", \"well\", \"covid\", \"use\", \"future\", \"concern\", \"education\", \"provide\", \"people\", \"pandemic\", \"study\", \"survey\", \"medium\", \"associate\", \"also\", \"include\", \"result\", \"research\", \"impact\", \"may\", \"pool\", \"rapid\", \"cat\", \"dementia\", \"testing\", \"individual_positive\", \"consistently_detected\", \"care\", \"propose\", \"diagnosis\", \"pulmonary_lesion\", \"metagenome\", \"mall\", \"emergence\", \"assessment\", \"feature\", \"therapeutic\", \"sarscov\", \"site\", \"protocol\", \"acute\", \"assign\", \"untested\", \"nasopharyngeal_swab\", \"shortage\", \"faster_reporte\", \"highthroughput_testing\", \"setting\", \"nasal\", \"genetic\", \"sample\", \"clinical\", \"representation\", \"framework\", \"efficient\", \"degree\", \"create\", \"disease\", \"demand\", \"infection\", \"observe\", \"learn\", \"could\", \"covid\", \"use\", \"significant\", \"study\", \"consistent\", \"result\", \"novel\", \"people\", \"negative\", \"also\", \"viral\", \"identify\", \"mutation\", \"mask\", \"sarscov_viruse\", \"oklahoma_unite\", \"incentive\", \"country\", \"trade\", \"influence\", \"vaccine_uptake\", \"wear\", \"condition\", \"motion\", \"transmission\", \"orf\", \"peak\", \"time_point\", \"gene_possibly\", \"influences_conformational\", \"different_geographical\", \"genomes_showe\", \"similarity\", \"statesgenomic_sequence\", \"sequenced_previously\", \"gene\", \"ethnic\", \"minority\", \"south\", \"least\", \"location\", \"place\", \"food\", \"vaccination\", \"change\", \"vaccine\", \"pandemic\", \"report\", \"effect\", \"state\", \"understand\", \"current\", \"health\", \"consumption\", \"human\", \"covid\", \"public\", \"different\", \"system\", \"study\", \"information\", \"role\", \"analysis\", \"identify\", \"model\", \"level\", \"also\", \"associate\", \"include\", \"disease\"], \"Freq\": [52.0, 52.0, 42.0, 69.0, 49.0, 49.0, 56.0, 22.0, 24.0, 49.0, 104.0, 15.0, 36.0, 14.0, 26.0, 36.0, 25.0, 22.0, 16.0, 19.0, 27.0, 27.0, 26.0, 12.0, 26.0, 12.0, 14.0, 12.0, 12.0, 26.0, 10.649439780722536, 10.342951926843638, 7.448777282294948, 6.943447923734158, 6.943447923734158, 6.937640808681501, 6.732395384882158, 6.723248833833662, 14.581574859313765, 5.562068131269999, 5.561255686907526, 5.244872748068356, 5.243611091401333, 5.24152641526129, 5.2396518619699455, 5.665970891333297, 5.053384623516087, 4.869428736397914, 4.8639820946786925, 4.680816582127068, 4.676553893001717, 4.82226098463292, 4.545035841000365, 4.170883831966342, 4.049516966515469, 4.047880583105144, 4.04627316630197, 4.045201401837382, 4.104357650663578, 3.545350870114871, 5.557665666770459, 15.70984167976781, 18.480430524800376, 7.639029038488024, 6.299509671656412, 9.461749115166707, 17.621163251122827, 10.947207306486732, 8.930289118231206, 16.744972122270436, 12.653732206559535, 17.50498968452546, 10.750676693353109, 16.96748348308145, 39.65058064491665, 14.625643643901016, 13.719132293747565, 6.8859409323659095, 11.00853926936116, 16.45286366001124, 8.343298756024952, 12.17064552399141, 9.399534360455295, 9.938592804212666, 10.163528164276062, 9.644845659606066, 8.14840406651424, 7.287156028652458, 7.676790919102409, 7.328324474225285, 14.097771659445524, 11.571636819711413, 11.434580251325611, 15.553113972211108, 8.459714222006877, 8.17871296403814, 11.603747619998046, 6.3351798406270134, 5.706841373188584, 5.246341368687428, 4.786587416528819, 4.782429461016265, 4.782429461016265, 4.782429461016265, 9.271279285883315, 4.693413277121179, 3.5230927048298, 20.417487796614687, 3.350918013635403, 3.340782595105694, 3.234679159578435, 3.234679159578435, 3.234679159578435, 3.234679159578435, 3.233756442362748, 3.2333900486611147, 3.233207555254048, 3.233207555254048, 3.232098525936652, 3.232098525936652, 11.171838785227846, 9.099964604918918, 9.047978905911988, 6.218285176011389, 3.687574736161328, 9.596117550462374, 8.087031331283448, 8.26135594756088, 12.558324808029237, 7.860688858570531, 27.03067262680454, 8.652555085648027, 8.182703700922193, 12.710687508472953, 26.633484971584174, 13.728105939456555, 10.155982401336452, 9.436186599207524, 7.132143020130959, 14.628620058595965, 7.52101074464765, 9.70723191729469, 9.11950265457507, 10.460610526002494, 7.968108336861527, 14.526948714967583, 14.042525993042686, 11.722621641745665, 11.560534981056277, 11.60956045375694, 10.157392340293733, 10.157390036519258, 11.305359705183237, 7.40509198196889, 7.08285325520492, 6.812634332014604, 5.194491938436603, 5.192751436821259, 4.762969349906358, 4.762968198019121, 4.762966470188265, 4.76296013480846, 4.7629561032031305, 8.26914736413637, 3.8986867579813493, 3.467868260524816, 3.467868260524816, 3.467868260524816, 3.467868260524816, 3.467868260524816, 3.4678665326939604, 3.4628722376054544, 3.462713277166727, 3.449751378058802, 3.305897652474572, 7.082863046246437, 6.8126354839018415, 9.402752998952995, 7.441092489735394, 12.522727124224248, 16.704000618661276, 4.169398976880978, 12.090830460313736, 11.624743479429913, 9.26867562832233, 13.465202413553795, 10.95534840118778, 8.561253872663533, 9.907379823017635, 7.357785700969685, 11.609909475589797, 14.176449010783571, 9.861209878777885, 12.188414891384012, 9.74352040787026, 8.34519899113884, 8.414760885447167, 7.637405175902444, 52.276922380729104, 18.3807297734803, 16.290547731190202, 16.28884291629343, 15.374240751581882, 15.374240751581882, 10.180070296722041, 9.278202907483582, 8.888643677417356, 8.209342073077316, 7.756982246075878, 7.757005939730962, 7.756923011938167, 7.753388144253468, 6.681081575436391, 6.459699345022892, 6.459680728579611, 6.2313173319359585, 6.2313173319359585, 6.422426969036928, 5.609906660716904, 5.144583019576562, 4.987856824945223, 4.703511808886114, 4.699466963482461, 4.6509144332051795, 4.64853886221567, 4.53699816023376, 4.53550687030007, 4.528308230164321, 9.333820377985779, 38.05519629763599, 17.840590031603853, 12.354755195735153, 13.480561473597621, 16.105738349803037, 11.772798409173742, 9.079953582317252, 15.12421740524879, 13.98025163316825, 57.25928735490661, 28.87019069002202, 16.792809216472104, 12.662076569677483, 7.788485217048849, 13.705618477087745, 16.978569728870504, 26.202287384084123, 21.48670845307711, 12.521743563691158, 10.397450555964896, 14.019874194084704, 13.057969339401563, 12.468437352828957, 12.889202819044955, 10.707199965418706, 11.81667228877387, 10.601284814115349, 21.83136751112084, 14.023979673835811, 13.920807707005707, 12.784030016334345, 11.388250703450714, 10.974659821110318, 10.974647999161416, 10.961013654554542, 12.079363655029566, 9.992554144209398, 9.319827960696072, 9.01046210801875, 7.355699815226889, 7.355555223698009, 7.590174985680356, 6.942003899417401, 6.369717903157104, 6.102793301728709, 5.95979500780876, 5.9593489565828754, 9.319827960696072, 5.546281422826569, 5.546280968136227, 5.546279604065199, 5.546273693090749, 5.546273693090749, 5.546269600877666, 5.546256869548079, 5.544070718381874, 5.543507357047654, 36.76157595628107, 44.07249104623436, 9.274437133196068, 8.206879681488628, 10.433075426148807, 9.583812989060922, 8.168312846647199, 37.06123144200634, 10.143748686241251, 26.22523853461437, 14.206595137288108, 12.834193273668062, 11.712055702640939, 45.82456207389122, 28.530840491288668, 12.67808625717704, 23.28383761589352, 10.221896315387637, 16.989551931158058, 10.43107569802298, 12.643643463741078, 11.34442219196716, 10.778001701123681, 10.001023206526735, 10.070249811155449, 24.713868374204335, 20.961456223228513, 15.796247013275396, 15.796234816154744, 15.655269643505815, 19.04327604397877, 16.6576610360834, 11.605086136786065, 9.967519013803829, 9.056968890451472, 11.08859753816048, 8.530643314020494, 8.65707942901343, 7.976976367009218, 7.976974842369137, 7.976974842369137, 7.976974842369137, 7.976971793088974, 7.976970268448893, 7.976968743808811, 7.97696798148877, 7.97696798148877, 7.97695654668816, 24.131120442279848, 7.626684972060203, 7.626684972060203, 7.626684972060203, 7.421168063003573, 12.995455740165516, 6.963000759092919, 20.82324455056665, 20.756035366497013, 16.872562104841236, 32.01187982303013, 73.63758503057336, 26.671523009802403, 18.685874490010004, 30.09175115375632, 17.184216833166673, 21.612181757823677, 17.17748554720716, 9.988467568522688, 16.84686277162864, 70.65481576662405, 12.57244968581282, 15.13447851057043, 13.0524467864094, 34.64146926139614, 15.310325923642417, 18.369037510047786, 17.841630963799073, 18.160600915235214, 16.72160444109861, 15.522787568269964, 16.692718610115822, 16.31427092446298, 16.247792042992355, 15.768187537216743], \"Total\": [52.0, 52.0, 42.0, 69.0, 49.0, 49.0, 56.0, 22.0, 24.0, 49.0, 104.0, 15.0, 36.0, 14.0, 26.0, 36.0, 25.0, 22.0, 16.0, 19.0, 27.0, 27.0, 26.0, 12.0, 26.0, 12.0, 14.0, 12.0, 12.0, 26.0, 11.322996567204548, 11.008301580431946, 8.111083079850877, 7.606846221107517, 7.606846221107517, 7.606222876072396, 7.416051926672013, 7.412293554155491, 16.25730569629564, 6.2223761323753655, 6.222208363611818, 5.9065066997226845, 5.906102306014449, 5.9066181811845775, 5.905624688466904, 6.397774185624151, 5.718289011431157, 5.529762420090355, 5.528949153509925, 5.341236158244126, 5.341659638767577, 5.526287972577678, 5.212179144682555, 4.837054290081122, 4.709859043710535, 4.70949407159659, 4.709251791315196, 4.7087988096561, 4.830336812418753, 4.205571986966227, 6.652773396061777, 20.7877287765794, 27.246985673889775, 10.86116554762513, 8.470546559298022, 15.365449025634078, 36.99898563293849, 19.5256983499763, 14.637736353922996, 41.2676396832336, 26.934681717705775, 49.241269760044446, 21.443023246694338, 49.52102520972911, 249.766251219793, 49.717714531137716, 56.506546584332426, 11.303376034803042, 37.85354618914104, 145.6132862739998, 20.636665164577753, 69.80895743644847, 31.25463239994843, 43.90500345967735, 70.57557171452106, 55.29609971069111, 41.2928151734599, 19.329405685897168, 111.72586578625524, 104.43456952042197, 14.772954030207107, 12.245014269647221, 12.13301482458238, 16.77725258952249, 9.140123482230546, 8.852491001228909, 12.578786649435989, 7.012922235060994, 6.380370505867615, 5.920194630454524, 5.460231639460348, 5.459956706245663, 5.459956706245663, 5.459956706245663, 10.771774656466944, 5.456842796878445, 4.1962689171819765, 24.44286350756836, 4.0242950162104005, 4.025134989286695, 3.9081051172849657, 3.9081051172849657, 3.9081051172849657, 3.9081051172849657, 3.907899763972742, 3.9079088836796085, 3.9082715963212755, 3.9082715963212755, 3.9079006240499212, 3.9079006240499212, 14.726914829638936, 11.845229783393702, 12.825991239000029, 8.763574912337052, 4.635037870720469, 16.41404236759425, 14.089385546591537, 14.673405732837198, 26.846681681527087, 15.09369446072981, 104.43456952042197, 19.66154418960963, 18.220934270708327, 41.93340631160795, 249.766251219793, 70.57557171452106, 36.99898563293849, 33.38264603492454, 15.693058822184385, 145.6132862739998, 18.81092742407634, 47.93600083690998, 41.2928151734599, 111.72586578625524, 55.29609971069111, 15.207922548947483, 14.72376939435248, 12.403821720861375, 12.242567408959784, 12.2945215539589, 10.838336520111485, 10.83833622141656, 12.087169042022945, 8.086611660036963, 7.763915750342465, 7.49356578423074, 5.875679822944469, 5.875452729205998, 5.443959590029887, 5.443958719657437, 5.443960030395526, 5.443960679393804, 5.443960977593965, 9.453742298308438, 4.58043453512884, 4.148788789118444, 4.148788836733729, 4.14878918366733, 4.1487892005439795, 4.148789379892702, 4.148789058062541, 4.149092923458304, 4.149052426988718, 4.149025880674871, 3.9875146880651915, 9.4640269130357, 9.707938496420208, 14.684564282321428, 10.958383214301932, 22.427483707661835, 36.44340336460358, 5.3543176748923385, 26.244864707514846, 26.16296158544273, 20.01243524155938, 36.93596410654558, 27.589491664646918, 18.183569392857716, 25.575415872851938, 16.058772947302135, 56.506546584332426, 111.72586578625524, 43.90500345967735, 145.6132862739998, 249.766251219793, 70.57557171452106, 104.43456952042197, 52.555219480245945, 52.96337337394161, 19.05807206968195, 16.965993193803726, 16.965949093369026, 16.062884848263316, 16.062884848263316, 10.863031801787473, 9.95846502264858, 9.56527437755422, 8.884910386241625, 8.432460268152324, 8.4324861768968, 8.432502323293024, 8.432658906835883, 7.358841281970453, 7.135166711445972, 7.13517104164932, 6.906757487005713, 6.906757487005713, 7.184904203611053, 6.285628594889717, 5.833259806707658, 5.664395136771706, 5.381059506736379, 5.380577174092778, 5.326232789862135, 5.326675858586403, 5.21212790294843, 5.212012153025816, 5.211630238088264, 11.039103422079286, 49.932000707481656, 23.879127462477477, 16.0950185785195, 17.788146550670707, 22.574358497725747, 15.895742063570173, 11.97378926056503, 23.20292719416376, 22.054191302134353, 249.766251219793, 104.43456952042197, 39.968558788555754, 24.865814480281184, 10.216178980353087, 31.25463239994843, 55.29609971069111, 145.6132862739998, 111.72586578625524, 30.208149574280927, 19.66154418960963, 47.93600083690998, 50.234289264278516, 51.63443299597759, 70.57557171452106, 24.267149385605926, 49.717714531137716, 41.2928151734599, 22.517516250422098, 14.711446679624705, 14.606916651432558, 13.470216881964685, 12.074453995667444, 11.66074167594933, 11.660742770429708, 11.661805811584244, 12.907815821327771, 10.678693048409121, 10.00592046763409, 9.696644491622505, 8.041822187877221, 8.041836271864746, 8.301782867768475, 7.628115036044827, 7.060078664665875, 6.802498336052368, 6.646060453823119, 6.646121729214634, 10.457624697428189, 6.232349460723657, 6.232350064299481, 6.232349967180366, 6.232350069356791, 6.232350573491972, 6.2323500403978835, 6.232353888110922, 6.232532608027006, 6.23250623559632, 42.45367613541255, 52.555219480245945, 10.576171188709566, 9.324856708782082, 12.282953055899288, 11.348389798934765, 9.98077087342291, 69.80895743644847, 14.28185262948495, 56.506546584332426, 24.294088939697637, 21.871726694852406, 20.189248692739262, 249.766251219793, 104.43456952042197, 25.47848276332329, 111.72586578625524, 16.946051108840543, 70.57557171452106, 19.382903581354604, 55.29609971069111, 36.93596410654558, 50.234289264278516, 26.244864707514846, 45.92215566834742, 25.36658873679614, 21.62781467702638, 16.44235182071871, 16.442348783993765, 16.302197137018926, 19.918740479706468, 17.556823099563687, 12.284868135258824, 10.690207667555825, 9.725317217719274, 11.908058305373412, 9.176767103348944, 9.313809188598313, 8.623057942925906, 8.623057443987587, 8.623057506336522, 8.623057594131957, 8.623056967007948, 8.623057045867771, 8.623056301664239, 8.623055772996151, 8.623056258634236, 8.623053836591573, 26.101907116687563, 8.275361995469725, 8.275361995469725, 8.275361995469725, 8.068846131802394, 14.185742009565566, 7.646463711355299, 26.290036810141455, 27.345675795789024, 21.525403801523904, 49.52102520972911, 145.6132862739998, 40.852707248908274, 26.253781186386878, 49.241269760044446, 25.40227873979645, 36.65802119862179, 27.243801040314594, 12.066135596855835, 27.082918002031455, 249.766251219793, 18.075199013381066, 24.690646311021784, 19.292960204580126, 111.72586578625524, 26.667923328529053, 39.15145026735249, 41.2676396832336, 45.92215566834742, 37.85354618914104, 33.38264603492454, 50.234289264278516, 47.93600083690998, 51.63443299597759, 69.80895743644847], \"Category\": [\"Default\", \"Default\", \"Default\", \"Default\", \"Default\", \"Default\", \"Default\", \"Default\", \"Default\", \"Default\", \"Default\", \"Default\", \"Default\", \"Default\", \"Default\", \"Default\", \"Default\", \"Default\", \"Default\", \"Default\", \"Default\", \"Default\", \"Default\", \"Default\", \"Default\", \"Default\", \"Default\", \"Default\", \"Default\", \"Default\", \"Topic1\", \"Topic1\", \"Topic1\", \"Topic1\", \"Topic1\", \"Topic1\", \"Topic1\", \"Topic1\", \"Topic1\", \"Topic1\", \"Topic1\", \"Topic1\", \"Topic1\", \"Topic1\", \"Topic1\", \"Topic1\", \"Topic1\", \"Topic1\", \"Topic1\", \"Topic1\", \"Topic1\", \"Topic1\", \"Topic1\", \"Topic1\", \"Topic1\", \"Topic1\", \"Topic1\", \"Topic1\", \"Topic1\", \"Topic1\", \"Topic1\", \"Topic1\", \"Topic1\", \"Topic1\", \"Topic1\", \"Topic1\", \"Topic1\", \"Topic1\", \"Topic1\", \"Topic1\", \"Topic1\", \"Topic1\", \"Topic1\", \"Topic1\", \"Topic1\", \"Topic1\", \"Topic1\", \"Topic1\", \"Topic1\", \"Topic1\", \"Topic1\", \"Topic1\", \"Topic1\", \"Topic1\", \"Topic1\", \"Topic1\", \"Topic1\", \"Topic1\", \"Topic1\", \"Topic1\", \"Topic2\", \"Topic2\", \"Topic2\", \"Topic2\", \"Topic2\", \"Topic2\", \"Topic2\", \"Topic2\", \"Topic2\", \"Topic2\", \"Topic2\", \"Topic2\", \"Topic2\", \"Topic2\", \"Topic2\", \"Topic2\", \"Topic2\", \"Topic2\", \"Topic2\", \"Topic2\", \"Topic2\", \"Topic2\", \"Topic2\", \"Topic2\", \"Topic2\", \"Topic2\", \"Topic2\", \"Topic2\", \"Topic2\", \"Topic2\", \"Topic2\", \"Topic2\", \"Topic2\", \"Topic2\", \"Topic2\", \"Topic2\", \"Topic2\", \"Topic2\", \"Topic2\", \"Topic2\", \"Topic2\", \"Topic2\", \"Topic2\", \"Topic2\", \"Topic2\", \"Topic2\", \"Topic2\", \"Topic2\", \"Topic2\", \"Topic2\", \"Topic2\", \"Topic2\", \"Topic2\", \"Topic2\", \"Topic2\", \"Topic3\", \"Topic3\", \"Topic3\", \"Topic3\", \"Topic3\", \"Topic3\", \"Topic3\", \"Topic3\", \"Topic3\", \"Topic3\", \"Topic3\", \"Topic3\", \"Topic3\", \"Topic3\", \"Topic3\", \"Topic3\", \"Topic3\", \"Topic3\", \"Topic3\", \"Topic3\", \"Topic3\", \"Topic3\", \"Topic3\", \"Topic3\", \"Topic3\", \"Topic3\", \"Topic3\", \"Topic3\", \"Topic3\", \"Topic3\", \"Topic3\", \"Topic3\", \"Topic3\", \"Topic3\", \"Topic3\", \"Topic3\", \"Topic3\", \"Topic3\", \"Topic3\", \"Topic3\", \"Topic3\", \"Topic3\", \"Topic3\", \"Topic3\", \"Topic3\", \"Topic3\", \"Topic3\", \"Topic3\", \"Topic3\", \"Topic3\", \"Topic3\", \"Topic3\", \"Topic3\", \"Topic4\", \"Topic4\", \"Topic4\", \"Topic4\", \"Topic4\", \"Topic4\", \"Topic4\", \"Topic4\", \"Topic4\", \"Topic4\", \"Topic4\", \"Topic4\", \"Topic4\", \"Topic4\", \"Topic4\", \"Topic4\", \"Topic4\", \"Topic4\", \"Topic4\", \"Topic4\", \"Topic4\", \"Topic4\", \"Topic4\", \"Topic4\", \"Topic4\", \"Topic4\", \"Topic4\", \"Topic4\", \"Topic4\", \"Topic4\", \"Topic4\", \"Topic4\", \"Topic4\", \"Topic4\", \"Topic4\", \"Topic4\", \"Topic4\", \"Topic4\", \"Topic4\", \"Topic4\", \"Topic4\", \"Topic4\", \"Topic4\", \"Topic4\", \"Topic4\", \"Topic4\", \"Topic4\", \"Topic4\", \"Topic4\", \"Topic4\", \"Topic4\", \"Topic4\", \"Topic4\", \"Topic4\", \"Topic4\", \"Topic4\", \"Topic4\", \"Topic4\", \"Topic5\", \"Topic5\", \"Topic5\", \"Topic5\", \"Topic5\", \"Topic5\", \"Topic5\", \"Topic5\", \"Topic5\", \"Topic5\", \"Topic5\", \"Topic5\", \"Topic5\", \"Topic5\", \"Topic5\", \"Topic5\", \"Topic5\", \"Topic5\", \"Topic5\", \"Topic5\", \"Topic5\", \"Topic5\", \"Topic5\", \"Topic5\", \"Topic5\", \"Topic5\", \"Topic5\", \"Topic5\", \"Topic5\", \"Topic5\", \"Topic5\", \"Topic5\", \"Topic5\", \"Topic5\", \"Topic5\", \"Topic5\", \"Topic5\", \"Topic5\", \"Topic5\", \"Topic5\", \"Topic5\", \"Topic5\", \"Topic5\", \"Topic5\", \"Topic5\", \"Topic5\", \"Topic5\", \"Topic5\", \"Topic5\", \"Topic5\", \"Topic5\", \"Topic5\", \"Topic5\", \"Topic5\", \"Topic5\", \"Topic6\", \"Topic6\", \"Topic6\", \"Topic6\", \"Topic6\", \"Topic6\", \"Topic6\", \"Topic6\", \"Topic6\", \"Topic6\", \"Topic6\", \"Topic6\", \"Topic6\", \"Topic6\", \"Topic6\", \"Topic6\", \"Topic6\", \"Topic6\", \"Topic6\", \"Topic6\", \"Topic6\", \"Topic6\", \"Topic6\", \"Topic6\", \"Topic6\", \"Topic6\", \"Topic6\", \"Topic6\", \"Topic6\", \"Topic6\", \"Topic6\", \"Topic6\", \"Topic6\", \"Topic6\", \"Topic6\", \"Topic6\", \"Topic6\", \"Topic6\", \"Topic6\", \"Topic6\", \"Topic6\", \"Topic6\", \"Topic6\", \"Topic6\", \"Topic6\", \"Topic6\", \"Topic6\", \"Topic6\", \"Topic6\", \"Topic6\", \"Topic6\", \"Topic6\", \"Topic6\", \"Topic6\", \"Topic6\", \"Topic6\", \"Topic6\", \"Topic6\"], \"logprob\": [30.0, 29.0, 28.0, 27.0, 26.0, 25.0, 24.0, 23.0, 22.0, 21.0, 20.0, 19.0, 18.0, 17.0, 16.0, 15.0, 14.0, 13.0, 12.0, 11.0, 10.0, 9.0, 8.0, 7.0, 6.0, 5.0, 4.0, 3.0, 2.0, 1.0, -5.2227, -5.2519, -5.5802, -5.6504, -5.6504, -5.6512, -5.6813, -5.6826, -4.9084, -5.8722, -5.8724, -5.931, -5.9312, -5.9316, -5.932, -5.8537, -5.9681, -6.0052, -6.0064, -6.0447, -6.0456, -6.015, -6.0742, -6.1601, -6.1896, -6.19, -6.1904, -6.1907, -6.1762, -6.3226, -5.873, -4.8339, -4.6715, -5.5549, -5.7477, -5.341, -4.7191, -5.1951, -5.3988, -4.7701, -5.0503, -4.7257, -5.2132, -4.7569, -3.9081, -4.9054, -4.9694, -5.6587, -5.1895, -4.7877, -5.4667, -5.0892, -5.3475, -5.2918, -5.2694, -5.3218, -5.4904, -5.6021, -5.55, -5.5965, -4.8078, -5.0053, -5.0172, -4.7096, -5.3185, -5.3523, -5.0025, -5.6077, -5.7122, -5.7963, -5.888, -5.8889, -5.8889, -5.8889, -5.2269, -5.9077, -6.1945, -4.4374, -6.2446, -6.2476, -6.2799, -6.2799, -6.2799, -6.2799, -6.2802, -6.2803, -6.2803, -6.2803, -6.2807, -6.2807, -5.0404, -5.2455, -5.2513, -5.6263, -6.1488, -5.1925, -5.3636, -5.3422, -4.9234, -5.3919, -4.1568, -5.296, -5.3518, -4.9114, -4.1716, -4.8344, -5.1358, -5.2093, -5.4892, -4.7708, -5.4361, -5.1809, -5.2434, -5.1062, -5.3784, -4.4443, -4.4782, -4.6588, -4.6727, -4.6685, -4.8021, -4.8021, -4.695, -5.1181, -5.1626, -5.2015, -5.4727, -5.473, -5.5594, -5.5594, -5.5594, -5.5594, -5.5594, -5.0078, -5.7597, -5.8768, -5.8768, -5.8768, -5.8768, -5.8768, -5.8768, -5.8782, -5.8783, -5.882, -5.9246, -5.1626, -5.2015, -4.8793, -5.1133, -4.5928, -4.3047, -5.6925, -4.6279, -4.6672, -4.8937, -4.5202, -4.7265, -4.9731, -4.827, -5.1245, -4.6684, -4.4687, -4.8317, -4.6198, -4.8437, -4.9986, -4.9903, -5.0872, -3.8362, -4.8814, -5.0022, -5.0023, -5.06, -5.06, -5.4723, -5.5651, -5.608, -5.6875, -5.7441, -5.7441, -5.7442, -5.7446, -5.8935, -5.9272, -5.9272, -5.9631, -5.9631, -5.9329, -6.0682, -6.1548, -6.1857, -6.2444, -6.2453, -6.2557, -6.2562, -6.2805, -6.2808, -6.2824, -5.5591, -4.1537, -4.9113, -5.2787, -5.1915, -5.0136, -5.3269, -5.5867, -5.0764, -5.1551, -3.7451, -4.4299, -4.9718, -5.2541, -5.7401, -5.1749, -4.9608, -4.5269, -4.7253, -5.2653, -5.4512, -5.1523, -5.2233, -5.2695, -5.2363, -5.4218, -5.3232, -5.4318, -4.4937, -4.9363, -4.9437, -5.0289, -5.1445, -5.1815, -5.1815, -5.1827, -5.0856, -5.2752, -5.3449, -5.3787, -5.5816, -5.5816, -5.5502, -5.6395, -5.7255, -5.7683, -5.792, -5.7921, -5.3449, -5.8639, -5.8639, -5.8639, -5.8639, -5.8639, -5.8639, -5.8639, -5.8643, -5.8644, -3.9726, -3.7912, -5.3498, -5.4721, -5.2321, -5.317, -5.4768, -3.9645, -5.2602, -4.3103, -4.9234, -5.0249, -5.1164, -3.7522, -4.2261, -5.0372, -4.4293, -5.2525, -4.7445, -5.2323, -5.0399, -5.1483, -5.1996, -5.2744, -5.2675, -4.8864, -5.0511, -5.334, -5.334, -5.343, -5.1471, -5.2809, -5.6424, -5.7945, -5.8903, -5.6879, -5.9501, -5.9354, -6.0173, -6.0173, -6.0173, -6.0173, -6.0173, -6.0173, -6.0173, -6.0173, -6.0173, -6.0173, -4.9103, -6.0622, -6.0622, -6.0622, -6.0895, -5.5292, -6.1532, -5.0577, -5.061, -5.2681, -4.6277, -3.7947, -4.8102, -5.166, -4.6896, -5.2498, -5.0206, -5.2502, -5.7924, -5.2696, -3.836, -5.5623, -5.3768, -5.5248, -4.5488, -5.3653, -5.1831, -5.2123, -5.1946, -5.2771, -5.3515, -5.2788, -5.3018, -5.3059, -5.3358], \"loglift\": [30.0, 29.0, 28.0, 27.0, 26.0, 25.0, 24.0, 23.0, 22.0, 21.0, 20.0, 19.0, 18.0, 17.0, 16.0, 15.0, 14.0, 13.0, 12.0, 11.0, 10.0, 9.0, 8.0, 7.0, 6.0, 5.0, 4.0, 3.0, 2.0, 1.0, 1.791, 1.7899, 1.7671, 1.761, 1.761, 1.7603, 1.7556, 1.7547, 1.7435, 1.7401, 1.74, 1.7335, 1.7333, 1.7328, 1.7326, 1.7308, 1.7287, 1.7251, 1.7242, 1.7203, 1.7193, 1.716, 1.7153, 1.7041, 1.7012, 1.7009, 1.7006, 1.7004, 1.6894, 1.6815, 1.6724, 1.5722, 1.4641, 1.5004, 1.5562, 1.3674, 1.1105, 1.2736, 1.3581, 0.9503, 1.0968, 0.818, 1.1619, 0.7812, 0.0119, 0.6287, 0.4367, 1.3567, 0.6172, -0.3282, 0.9467, 0.1056, 0.6508, 0.3667, -0.0856, 0.106, 0.2294, 0.8768, -0.8256, -0.8045, 1.9399, 1.9301, 1.9274, 1.9109, 1.9093, 1.9075, 1.906, 1.885, 1.8751, 1.8658, 1.855, 1.8542, 1.8542, 1.8542, 1.8367, 1.836, 1.8118, 1.8067, 1.8036, 1.8003, 1.7976, 1.7976, 1.7976, 1.7976, 1.7973, 1.7972, 1.7971, 1.7971, 1.7968, 1.7968, 1.7104, 1.723, 1.6378, 1.6436, 1.758, 1.4499, 1.4315, 1.4122, 1.2269, 1.3343, 0.6351, 1.1659, 1.1861, 0.793, -0.2517, 0.3494, 0.6939, 0.7232, 1.1981, -0.3113, 1.0699, 0.3897, 0.4764, -0.3817, 0.0494, 2.2744, 2.2728, 2.2637, 2.2629, 2.2629, 2.2553, 2.2553, 2.2533, 2.2322, 2.2284, 2.2249, 2.197, 2.1967, 2.1866, 2.1866, 2.1866, 2.1866, 2.1866, 2.1863, 2.159, 2.1409, 2.1409, 2.1409, 2.1409, 2.1409, 2.1409, 2.1394, 2.1394, 2.1356, 2.1327, 2.0304, 1.966, 1.8744, 1.9331, 1.7375, 1.5401, 2.0701, 1.5452, 1.509, 1.5505, 1.3111, 1.3966, 1.5669, 1.3718, 1.5397, 0.7377, 0.2557, 0.8268, -0.1603, -0.9237, 0.1852, -0.1984, 0.3914, 1.6347, 1.6116, 1.6071, 1.607, 1.6039, 1.6039, 1.5828, 1.577, 1.5744, 1.5687, 1.5643, 1.5643, 1.5643, 1.5638, 1.5511, 1.5483, 1.5483, 1.5448, 1.5448, 1.5356, 1.534, 1.5221, 1.5206, 1.5132, 1.5124, 1.5122, 1.5116, 1.509, 1.5087, 1.5072, 1.48, 1.3761, 1.3562, 1.3833, 1.3705, 1.3101, 1.3475, 1.3711, 1.2198, 1.1919, 0.1748, 0.362, 0.7806, 0.9729, 1.3764, 0.8234, 0.467, -0.0673, -0.0009, 0.7671, 1.0107, 0.4184, 0.3005, 0.2268, -0.0525, 0.8296, 0.2109, 0.288, 1.8325, 1.8156, 1.8153, 1.8112, 1.8049, 1.8028, 1.8028, 1.8015, 1.7971, 1.797, 1.7924, 1.79, 1.7743, 1.7742, 1.7738, 1.7692, 1.7605, 1.7549, 1.7545, 1.7544, 1.7483, 1.7468, 1.7468, 1.7468, 1.7468, 1.7468, 1.7468, 1.7468, 1.7464, 1.7463, 1.7195, 1.6874, 1.7321, 1.7357, 1.7002, 1.6944, 1.663, 1.2302, 1.5213, 1.0958, 1.3269, 1.3304, 1.3189, 0.1677, 0.5659, 1.1655, 0.2951, 1.3579, 0.4394, 1.2438, 0.3879, 0.683, 0.3242, 0.8987, 0.3461, 1.3206, 1.3154, 1.3066, 1.3066, 1.3062, 1.3017, 1.2941, 1.2898, 1.2767, 1.2755, 1.2754, 1.2737, 1.2736, 1.2688, 1.2688, 1.2688, 1.2688, 1.2688, 1.2688, 1.2688, 1.2688, 1.2688, 1.2688, 1.2682, 1.2651, 1.2651, 1.2651, 1.263, 1.2591, 1.2531, 1.1136, 1.071, 1.1031, 0.9104, 0.6649, 0.9203, 1.0066, 0.8542, 0.9558, 0.8183, 0.8855, 1.1577, 0.872, 0.084, 0.9837, 0.8572, 0.9559, 0.1757, 0.7918, 0.5899, 0.5081, 0.419, 0.5297, 0.581, 0.245, 0.2689, 0.1905, -0.1411]}, \"token.table\": {\"Topic\": [4, 1, 2, 3, 4, 4, 5, 1, 3, 3, 1, 2, 3, 4, 5, 6, 1, 2, 3, 4, 6, 2, 6, 2, 4, 6, 5, 5, 1, 2, 3, 4, 6, 4, 1, 2, 1, 1, 2, 6, 1, 4, 3, 3, 4, 3, 3, 4, 1, 5, 1, 2, 3, 5, 6, 3, 5, 3, 2, 4, 6, 4, 3, 3, 5, 1, 2, 3, 5, 4, 6, 1, 2, 4, 5, 6, 6, 1, 4, 2, 3, 5, 6, 5, 2, 6, 2, 2, 1, 1, 2, 4, 5, 6, 2, 1, 2, 6, 3, 1, 2, 3, 4, 5, 6, 5, 6, 4, 2, 5, 6, 4, 1, 2, 4, 2, 4, 5, 2, 3, 5, 5, 2, 4, 4, 1, 2, 4, 5, 5, 3, 1, 2, 4, 6, 2, 3, 4, 6, 6, 2, 2, 4, 1, 3, 5, 6, 3, 3, 3, 1, 2, 4, 1, 2, 3, 6, 1, 5, 5, 6, 4, 1, 2, 3, 4, 2, 4, 4, 4, 5, 5, 1, 2, 3, 4, 6, 3, 2, 4, 6, 2, 5, 2, 1, 4, 5, 6, 1, 3, 6, 6, 5, 6, 1, 2, 6, 1, 3, 4, 5, 2, 2, 4, 6, 4, 1, 1, 2, 3, 4, 5, 6, 1, 2, 4, 5, 3, 2, 1, 3, 5, 6, 1, 4, 5, 6, 1, 2, 4, 5, 6, 1, 1, 2, 3, 4, 6, 2, 1, 2, 3, 4, 6, 6, 1, 2, 3, 4, 5, 6, 1, 2, 3, 4, 6, 2, 4, 1, 4, 6, 5, 3, 1, 2, 3, 4, 5, 6, 1, 3, 5, 6, 6, 2, 3, 6, 3, 1, 6, 1, 3, 3, 1, 2, 4, 5, 6, 2, 3, 5, 1, 2, 4, 6, 1, 4, 2, 6, 5, 6, 1, 2, 4, 6, 1, 1, 2, 4, 5, 1, 5, 4, 1, 3, 3, 6, 1, 2, 3, 4, 5, 6, 2, 4, 2, 5, 1, 2, 4, 6, 4, 6, 1, 3, 5, 6, 1, 6, 6, 5, 5, 2, 3, 4, 5, 6, 2, 3, 2, 1, 2, 4, 5, 1, 2, 4, 5, 6, 2, 4, 6, 2, 4, 6, 2, 1, 2, 3, 4, 5, 6, 1, 3, 1, 3, 3, 6, 1, 2, 6, 6, 3, 1, 2, 4, 5, 6, 1, 2, 4, 6, 2, 6, 4, 1, 5, 2, 4, 6, 2, 4, 6, 4, 3, 5, 1, 5, 1, 2, 4, 6, 1, 2, 4, 6, 5, 2, 4, 4, 5, 1, 3, 1, 2, 4, 6, 1, 2, 4, 6, 4, 5, 1, 2, 4, 6, 3, 5, 6, 3, 4, 6, 3, 2, 1, 2, 3, 4, 5, 6, 2, 1, 2, 3, 4, 6, 2, 2, 2, 2, 3, 5, 5, 6, 4, 2, 6, 5, 1, 5, 1, 2, 4, 5, 6, 6, 5, 3, 1, 4, 6, 1, 2, 6, 1, 1, 2, 4, 6, 1, 2, 6, 6, 1, 2, 3, 1, 3, 4, 1, 1, 2, 4, 1, 2, 3, 4, 5, 6, 2, 4, 1, 2, 4, 6, 1, 3, 1, 2, 5, 6, 4, 5, 5, 2, 4, 6, 6, 1, 3, 6, 2, 5, 6, 3, 6, 3, 1, 2, 4, 1, 4, 6, 5, 2, 1, 2, 3, 4, 5, 6, 1, 6, 1, 6, 6, 1, 1, 3, 5, 2, 3, 4, 6, 1, 6, 1, 2, 4, 5, 6, 2, 4, 1, 4], \"Freq\": [0.8350842029298688, 0.12426204979155545, 0.06213102489577772, 0.06213102489577772, 0.7455722987493326, 0.0956240091735102, 0.8606160825615918, 0.9642878620215746, 0.7231026095781211, 0.8509653607187805, 0.11944032826730139, 0.03981344275576713, 0.03981344275576713, 0.25878737791248635, 0.21897393515671923, 0.3384142634240206, 0.4119450526003026, 0.04846412383532972, 0.09692824767065944, 0.02423206191766486, 0.4361771145179675, 0.7597995281288218, 0.1688443395841826, 0.21549005253344292, 0.6464701576003288, 0.12929403152006574, 0.9636484267806928, 0.9627188009613508, 0.08344459133353614, 0.20861147833384036, 0.08344459133353614, 0.2920560696673765, 0.33377836533414457, 0.8409048591795325, 0.9043309788490036, 0.9157581770347158, 0.9438984609620016, 0.512987365328523, 0.13990564508959719, 0.3264465052090601, 0.8492823167057475, 0.9387498063390919, 0.9508434711949446, 0.9801865572100293, 0.9037537391085133, 0.9184491393281173, 0.9674437661271601, 0.9512367140123495, 0.8494735412771084, 0.9432501430501578, 0.48649982403775494, 0.27027768002097496, 0.08108330400629249, 0.05405553600419499, 0.10811107200838999, 0.9341347232489255, 0.9584500503483714, 0.7523483258830703, 0.09291347184197347, 0.13937020776296022, 0.7897645106567746, 0.9409034853322465, 0.7231025066106362, 0.15222084655182497, 0.8372146560350373, 0.09125433747333153, 0.18250867494666306, 0.6387803623133207, 0.09125433747333153, 0.7537963867517498, 0.2512654622505832, 0.24129513251046147, 0.08043171083682049, 0.5228061204393332, 0.08043171083682049, 0.08043171083682049, 0.9237442173957396, 0.9511191372770864, 0.8687144454236775, 0.11802159613201126, 0.1770323941980169, 0.5901079806600563, 0.11802159613201126, 0.9433361336033177, 0.1657531513669675, 0.8287657568348376, 0.7676757801357275, 0.8629918700919355, 0.8493918306463889, 0.24765656593244945, 0.049531313186489886, 0.049531313186489886, 0.5943757582378787, 0.9538755735764269, 0.9066172059489445, 0.22821736791277614, 0.6846521037383284, 0.11410868395638807, 0.7230566624045595, 0.16014973922477704, 0.10810107397672451, 0.04003743480619426, 0.22821337839530728, 0.1841722001084936, 0.28426578712397926, 0.8015412938997162, 0.10019266173746452, 0.9205533208836354, 0.1363957965136422, 0.2727915930272844, 0.6001415046600257, 0.9430629741053695, 0.31861220025071113, 0.44605708035099556, 0.19116732015042667, 0.0881182280233154, 0.0881182280233154, 0.881182280233154, 0.14003785446371228, 0.14003785446371228, 0.7001892723185614, 0.9650921075670088, 0.7676027435820476, 0.9004030037700866, 0.8827067814427998, 0.5633601320084591, 0.20485822982125787, 0.05121455745531447, 0.1536436723659434, 0.9364441841962832, 0.9184489052325685, 0.6192840066938438, 0.1769382876268125, 0.08846914381340625, 0.08846914381340625, 0.08100233484399352, 0.12150350226599028, 0.20250583710998382, 0.6075175113299515, 0.9277452250920287, 0.7676354422329758, 0.7676354422329758, 0.981810573749904, 0.17189771113433922, 0.05729923704477974, 0.5300179426642125, 0.22919694817911895, 0.7230496051410376, 0.9184489555418244, 0.9184490650341401, 0.9202236770051119, 0.19576790929820584, 0.7830716371928234, 0.03808975144953674, 0.1904487572476837, 0.07617950289907348, 0.7237052775411981, 0.08141364665720328, 0.8141364665720329, 0.8704479627980334, 0.9667250815589131, 0.9487100854869228, 0.12016342055168197, 0.040054473517227324, 0.08010894703445465, 0.7610349968273191, 0.7017001518474201, 0.2339000506158067, 0.8571536611913816, 0.8409053695094496, 0.9627186290706707, 0.9176578967311295, 0.13719904120854845, 0.08231942472512907, 0.4664767401090647, 0.10975923296683876, 0.21951846593367752, 0.986328011056193, 0.11411166981868742, 0.07607444654579161, 0.7987816887308119, 0.10724025378944507, 0.8579220303155606, 0.7676354422329758, 0.10007866486157427, 0.4253343256616906, 0.20015732972314854, 0.27521632836932924, 0.971474285513778, 0.03831137684804175, 0.9194730443530019, 0.9277451661048917, 0.9626945843602395, 0.9277453051600754, 0.18277033364570874, 0.6092344454856958, 0.18277033364570874, 0.07820009691897058, 0.39100048459485287, 0.39100048459485287, 0.15640019383794115, 0.7676756111804538, 0.18352798835232806, 0.14682239068186245, 0.6239951603979155, 0.8687144454236775, 0.9041979781688887, 0.11923667643035968, 0.31001535871893515, 0.09538934114428775, 0.023847335286071938, 0.1907786822885755, 0.2623206881467913, 0.13250566355397764, 0.5300226542159105, 0.3312641588849441, 0.9627187114183577, 0.9226508128294524, 0.9162807480655702, 0.044588149657572726, 0.5796459455484455, 0.1337644489727182, 0.2675288979454364, 0.14769457263430644, 0.03692364315857661, 0.18461821579288304, 0.6277019336958023, 0.08710392493088176, 0.06532794369816132, 0.2177598123272044, 0.2177598123272044, 0.3919676621889679, 0.8280996036789889, 0.30170332931546257, 0.08045422115079001, 0.10056777643848752, 0.24136266345237004, 0.281589774027765, 0.9157581770347158, 0.054994703096785155, 0.21997881238714062, 0.4949523278710664, 0.10998940619357031, 0.10998940619357031, 0.9814627970402408, 0.1355684490724496, 0.05810076388819269, 0.07746768518425692, 0.23240305555277077, 0.17430229166457809, 0.3098707407370277, 0.2277644735681223, 0.045552894713624455, 0.2277644735681223, 0.18221157885449782, 0.3188702629953712, 0.7676027435820476, 0.9545584676889857, 0.6606235352209632, 0.07340261502455146, 0.22020784507365437, 0.9433362221451032, 0.8732795915589887, 0.24775890310525153, 0.053091193522553905, 0.21236477409021562, 0.017697064507517967, 0.46012367719546715, 0.017697064507517967, 0.5857297098825657, 0.19524323662752188, 0.19524323662752188, 0.9768114617004945, 0.9277452335764705, 0.26248763031771116, 0.1124946987075905, 0.5624734935379525, 0.9016068985152539, 0.736569198298359, 0.27621344936188463, 0.8466504838623594, 0.9184492861684717, 0.8509982516148495, 0.18288450911108978, 0.09144225455554489, 0.18288450911108978, 0.5943746546110418, 0.8675342032376024, 0.7676354422329758, 0.6128884607652263, 0.3404935893140146, 0.17973410477176882, 0.2696011571576532, 0.05991136825725627, 0.47929094605805017, 0.9202236770051119, 0.9292683365038905, 0.484231166973055, 0.5214797182786746, 0.07049331641063905, 0.9164131133383076, 0.21292624792468337, 0.5678033277991557, 0.1419508319497889, 0.07097541597489446, 0.8465080773169674, 0.05316058998346289, 0.4252847198677031, 0.10632117996692578, 0.4252847198677031, 0.9642618627282381, 0.8704494872508207, 0.9338297660536219, 0.10577821654594186, 0.8462257323675348, 0.7231025408112312, 0.9709718856758441, 0.19373830450634508, 0.2179555925696382, 0.0726518641898794, 0.26639016869622445, 0.09686915225317254, 0.1453037283797588, 0.4577463455162466, 0.5086070505736073, 0.8445668279686481, 0.9281561273877394, 0.3621425362864227, 0.10346929608183505, 0.4138771843273402, 0.10346929608183505, 0.9386717218657461, 0.9667250815589131, 0.2905936459700979, 0.05283520835819962, 0.21134083343279847, 0.4490992710446967, 0.9443770607379209, 0.9807375406438685, 0.9855483628248218, 0.9626905108001325, 0.962718722728357, 0.16244330275750712, 0.3519604893079321, 0.054147767585835706, 0.2978127217220964, 0.10829553517167141, 0.8182347372601129, 0.12273521058901693, 0.7453166186934859, 0.2063674301020515, 0.10318371505102575, 0.10318371505102575, 0.5159185752551287, 0.12348682872803123, 0.08232455248535415, 0.1646491049707083, 0.576271867397479, 0.04116227624267708, 0.16703150159714958, 0.7516417571871731, 0.9730969832956967, 0.2516397148370438, 0.7549191445111313, 0.9277451285785406, 0.915712066840843, 0.109880083125745, 0.10301257793038593, 0.08241006234430875, 0.17855513507933563, 0.02060251558607719, 0.5081953844565706, 0.8465820165201465, 0.723061288668565, 0.9592916630850996, 0.9100559412842469, 0.4358988088922445, 0.49817006730542235, 0.7696848545583528, 0.1924212136395882, 0.04810530340989705, 0.9277451822587576, 0.7231025627031955, 0.18084458130537137, 0.14467566504429707, 0.3074357882191313, 0.23509795569698277, 0.14467566504429707, 0.4826491040900002, 0.18563427080384623, 0.18563427080384623, 0.14850741664307698, 0.875261698110854, 0.9154558583211119, 0.9593926989406112, 0.8743874242810639, 0.9770171698926876, 0.11243442335618657, 0.7308237518152126, 0.11243442335618657, 0.9476777610878229, 0.815283601927229, 0.09058706688080322, 0.9487148169810372, 0.9760444883791299, 0.929669292319172, 0.9047664589342426, 0.902782140391072, 0.287957314129692, 0.031995257125521336, 0.4479335997572987, 0.22396679987864934, 0.16597327629859568, 0.05532442543286523, 0.05532442543286523, 0.719217530627248, 0.899467473193704, 0.5452040341321052, 0.40890302559907893, 0.9487119020625591, 0.951639923991292, 0.9018795084095007, 0.15031325140158344, 0.10976385569949434, 0.4390554227979774, 0.3841734949482302, 0.05488192784974717, 0.09791272768359541, 0.09791272768359541, 0.14686909152539313, 0.660910911864269, 0.0945521760339446, 0.8509695843055014, 0.0824159429778885, 0.04120797148894425, 0.4532876863783868, 0.4120797148894425, 0.4497203809214533, 0.39975144970795845, 0.14990679364048443, 0.39870252535661477, 0.3262111571099576, 0.2537197888633003, 0.723102601279136, 0.7676756111804538, 0.14169208632769006, 0.19836892085876612, 0.11335366906215207, 0.1841997122259971, 0.24087654675707312, 0.11335366906215207, 0.9532277551664201, 0.15325102797030396, 0.15325102797030396, 0.10216735198020263, 0.1277091899752533, 0.45975308391091185, 0.7454721852934731, 0.9799906913743205, 0.8555634582689502, 0.04711017235870673, 0.0706652585380601, 0.8715381886360746, 0.8820288816831855, 0.973096803575185, 0.9593223985667929, 0.9403842605193833, 0.9277455703746542, 0.9627181170577991, 0.9361128869545616, 0.96271870694504, 0.07849760986863136, 0.11774641480294704, 0.03924880493431568, 0.5102344641461037, 0.23549282960589407, 0.9277453620389068, 0.9027904638677375, 0.865628311866778, 0.6148491667284299, 0.1366331481618733, 0.20494972224280997, 0.8465240546048571, 0.9157581770347158, 0.9667250815589131, 0.8269495771842817, 0.3876595339508523, 0.048457441743856536, 0.048457441743856536, 0.48457441743856533, 0.3655470317421756, 0.020308168430120867, 0.6092450529036261, 0.9277453097896269, 0.7083368184091815, 0.2361122728030605, 0.9226508382568898, 0.18676516051508046, 0.7470606420603219, 0.9291850412991453, 0.8630166811370764, 0.920299091158708, 0.7469317319511986, 0.2037086541685087, 0.07160383089180927, 0.08950478861476159, 0.12530670406066624, 0.18796005609099933, 0.20586101381395167, 0.3132667601516656, 0.9037004385420369, 0.9338297660536219, 0.16551824823646186, 0.09931094894187711, 0.4303474454148008, 0.2979328468256313, 0.9226621114357143, 0.061510807429047624, 0.2073295107430121, 0.05183237768575302, 0.05183237768575302, 0.6738209099147893, 0.9444816838863174, 0.9110142789021367, 0.8498488876658934, 0.04429804727787702, 0.7087687564460323, 0.2214902363893851, 0.9277451755507048, 0.21132653344901317, 0.7396428670715461, 0.9682845184230668, 0.8355169214941531, 0.09283521349935035, 0.9663071056917862, 0.7210593683284295, 0.2060169623795513, 0.723102537869759, 0.059604514783577076, 0.9536722365372332, 0.9593010941215713, 0.0393665470032557, 0.2755658290227899, 0.669231299055347, 0.9627187077262489, 0.7676739886461376, 0.06702761386526483, 0.2585350820517358, 0.07660298727458838, 0.2776858288703829, 0.2776858288703829, 0.03830149363729419, 0.2194131183594279, 0.7679459142579976, 0.34328853104317614, 0.6461901760812727, 0.9354355229552214, 0.936038673020656, 0.15241076852854404, 0.4572323055856321, 0.3810269213213601, 0.15288789026948807, 0.45866367080846426, 0.03822197256737202, 0.34399775310634817, 0.9378261604609377, 0.9254196853961981, 0.9084053454509028, 0.18137142029836703, 0.6347999710442845, 0.09068571014918352, 0.09068571014918352, 0.9539870843216869, 0.9486924691706491, 0.8493481336189344, 0.9430654254558292], \"Term\": [\"activate\", \"activity\", \"activity\", \"activity\", \"activity\", \"acute\", \"acute\", \"adoption\", \"airline\", \"alone\", \"also\", \"also\", \"also\", \"also\", \"also\", \"also\", \"analysis\", \"analysis\", \"analysis\", \"analysis\", \"analysis\", \"area\", \"area\", \"asian\", \"asian\", \"asian\", \"assessment\", \"assign\", \"associate\", \"associate\", \"associate\", \"associate\", \"associate\", \"asthma\", \"attention\", \"ban\", \"begin\", \"behavior\", \"behavior\", \"behavior\", \"big\", \"bipoc\", \"bocv\", \"bovine\", \"box\", \"bvdv\", \"calf\", \"call\", \"cancel\", \"care\", \"case\", \"case\", \"case\", \"case\", \"case\", \"cash_reserve\", \"cat\", \"cattle\", \"change\", \"change\", \"change\", \"child\", \"clearly\", \"clinical\", \"clinical\", \"collect\", \"collect\", \"collect\", \"collect\", \"community\", \"community\", \"concern\", \"concern\", \"concern\", \"concern\", \"concern\", \"condition\", \"conference\", \"consciousness\", \"consistent\", \"consistent\", \"consistent\", \"consistent\", \"consistently_detected\", \"consumption\", \"consumption\", \"contrast\", \"contribute\", \"cost\", \"could\", \"could\", \"could\", \"could\", \"country\", \"county\", \"countylevel\", \"countylevel\", \"countylevel\", \"couple\", \"covid\", \"covid\", \"covid\", \"covid\", \"covid\", \"covid\", \"create\", \"create\", \"cultural\", \"current\", \"current\", \"current\", \"curriculum\", \"daily\", \"daily\", \"daily\", \"degree\", \"degree\", \"degree\", \"demand\", \"demand\", \"demand\", \"dementia\", \"depend\", \"depression\", \"depressive_symptom\", \"design\", \"design\", \"design\", \"design\", \"diagnosis\", \"diarrhea_virus\", \"difference\", \"difference\", \"difference\", \"difference\", \"different\", \"different\", \"different\", \"different\", \"different_geographical\", \"digital\", \"discourse\", \"discrimination\", \"disease\", \"disease\", \"disease\", \"disease\", \"dramatically\", \"dual\", \"dualinfection\", \"eating_disord\", \"education\", \"education\", \"effect\", \"effect\", \"effect\", \"effect\", \"efficient\", \"efficient\", \"emergence\", \"ethnic\", \"everyday\", \"experience\", \"experience\", \"experience\", \"experience\", \"face\", \"face\", \"facilitate\", \"family\", \"faster_reporte\", \"feature\", \"find\", \"find\", \"find\", \"find\", \"find\", \"firm\", \"food\", \"food\", \"food\", \"framework\", \"framework\", \"frequent\", \"future\", \"future\", \"future\", \"future\", \"gain\", \"gene\", \"gene\", \"gene_possibly\", \"genetic\", \"genomes_showe\", \"government\", \"government\", \"government\", \"group\", \"group\", \"group\", \"group\", \"hajj\", \"health\", \"health\", \"health\", \"heightened\", \"helpful\", \"high\", \"high\", \"high\", \"high\", \"high\", \"high\", \"highlight\", \"highlight\", \"highlight\", \"highthroughput_testing\", \"hotel\", \"household\", \"however\", \"however\", \"however\", \"however\", \"human\", \"human\", \"human\", \"human\", \"identify\", \"identify\", \"identify\", \"identify\", \"identify\", \"immunity\", \"impact\", \"impact\", \"impact\", \"impact\", \"impact\", \"import\", \"important\", \"important\", \"important\", \"important\", \"important\", \"incentive\", \"include\", \"include\", \"include\", \"include\", \"include\", \"include\", \"increase\", \"increase\", \"increase\", \"increase\", \"increase\", \"indicator\", \"indigenous\", \"individual\", \"individual\", \"individual\", \"individual_positive\", \"industry\", \"infection\", \"infection\", \"infection\", \"infection\", \"infection\", \"infection\", \"infectious\", \"infectious\", \"infectious\", \"influence\", \"influences_conformational\", \"information\", \"information\", \"information\", \"inoculate\", \"insight\", \"insight\", \"ischemic\", \"isolate\", \"later\", \"learn\", \"learn\", \"learn\", \"learn\", \"least\", \"leftleane\", \"lesion\", \"lesion\", \"level\", \"level\", \"level\", \"level\", \"lgbtq\", \"little\", \"livestock\", \"livestock\", \"location\", \"location\", \"loss\", \"loss\", \"loss\", \"loss\", \"lottery\", \"low\", \"low\", \"low\", \"low\", \"ltcfs\", \"mall\", \"mapping\", \"market\", \"market\", \"markettobook\", \"mask\", \"may\", \"may\", \"may\", \"may\", \"may\", \"may\", \"medium\", \"medium\", \"messaging\", \"metagenome\", \"method\", \"method\", \"method\", \"method\", \"mindset\", \"minority\", \"model\", \"model\", \"model\", \"model\", \"moreover\", \"motion\", \"mutation\", \"nasal\", \"nasopharyngeal_swab\", \"negative\", \"negative\", \"negative\", \"negative\", \"negative\", \"news\", \"news\", \"norm\", \"novel\", \"novel\", \"novel\", \"novel\", \"observe\", \"observe\", \"observe\", \"observe\", \"observe\", \"often\", \"often\", \"oklahoma_unite\", \"online\", \"online\", \"orf\", \"outlet\", \"pandemic\", \"pandemic\", \"pandemic\", \"pandemic\", \"pandemic\", \"pandemic\", \"pandemicrelate\", \"partial\", \"partner\", \"pathogenesis\", \"pathogenicity\", \"pathogenicity\", \"patient\", \"patient\", \"patient\", \"peak\", \"penalize\", \"people\", \"people\", \"people\", \"people\", \"people\", \"perceive\", \"perceive\", \"perceive\", \"perceive\", \"percentage\", \"place\", \"point\", \"policymaker\", \"pool\", \"practice\", \"practice\", \"practice\", \"prejudice\", \"prepare\", \"prepare\", \"preservice\", \"price\", \"propose\", \"protective\", \"protocol\", \"provide\", \"provide\", \"provide\", \"provide\", \"public\", \"public\", \"public\", \"public\", \"pulmonary_lesion\", \"racial\", \"racial\", \"racismrelate\", \"rapid\", \"regulation\", \"regulation\", \"relationship\", \"relationship\", \"relationship\", \"relationship\", \"report\", \"report\", \"report\", \"report\", \"representation\", \"representation\", \"research\", \"research\", \"research\", \"research\", \"respiratory\", \"respiratory\", \"respiratory\", \"response\", \"response\", \"response\", \"restaurant\", \"restricted\", \"result\", \"result\", \"result\", \"result\", \"result\", \"result\", \"revenue\", \"role\", \"role\", \"role\", \"role\", \"role\", \"room\", \"rural\", \"rurality\", \"sample\", \"sample\", \"sample\", \"sarscov\", \"sarscov_viruse\", \"school\", \"sector\", \"sequenced_previously\", \"setting\", \"sex\", \"shortage\", \"significant\", \"significant\", \"significant\", \"significant\", \"significant\", \"similarity\", \"site\", \"sme\", \"social\", \"social\", \"social\", \"socially\", \"somaliland\", \"south\", \"spatiotemporal\", \"spread\", \"spread\", \"spread\", \"spread\", \"state\", \"state\", \"state\", \"statesgenomic_sequence\", \"statewide\", \"statewide\", \"stock\", \"strain\", \"strain\", \"strength\", \"stress\", \"stroke\", \"student\", \"student\", \"study\", \"study\", \"study\", \"study\", \"study\", \"study\", \"subjective\", \"supply_chain\", \"survey\", \"survey\", \"survey\", \"survey\", \"symptom\", \"symptom\", \"system\", \"system\", \"system\", \"system\", \"teacher\", \"testing\", \"therapeutic\", \"time\", \"time\", \"time\", \"time_point\", \"tissue\", \"tissue\", \"trade\", \"traditional\", \"traditional\", \"transmission\", \"travel\", \"travel\", \"travelrelate\", \"trust\", \"trust\", \"tutoring\", \"understand\", \"understand\", \"understand\", \"untested\", \"uptick\", \"use\", \"use\", \"use\", \"use\", \"use\", \"use\", \"vaccination\", \"vaccination\", \"vaccine\", \"vaccine\", \"vaccine_uptake\", \"violence\", \"viral\", \"viral\", \"viral\", \"virus\", \"virus\", \"virus\", \"virus\", \"vulnerability\", \"wear\", \"weight\", \"well\", \"well\", \"well\", \"well\", \"wellbeing\", \"wellness\", \"worldwide\", \"worry\"]}, \"R\": 30, \"lambda.step\": 0.01, \"plot.opts\": {\"xlab\": \"PC1\", \"ylab\": \"PC2\"}, \"topic.order\": [1, 2, 3, 4, 5, 6]};\n",
       "\n",
       "function LDAvis_load_lib(url, callback){\n",
       "  var s = document.createElement('script');\n",
       "  s.src = url;\n",
       "  s.async = true;\n",
       "  s.onreadystatechange = s.onload = callback;\n",
       "  s.onerror = function(){console.warn(\"failed to load library \" + url);};\n",
       "  document.getElementsByTagName(\"head\")[0].appendChild(s);\n",
       "}\n",
       "\n",
       "if(typeof(LDAvis) !== \"undefined\"){\n",
       "   // already loaded: just create the visualization\n",
       "   !function(LDAvis){\n",
       "       new LDAvis(\"#\" + \"ldavis_el1181627899333752642114887312\", ldavis_el1181627899333752642114887312_data);\n",
       "   }(LDAvis);\n",
       "}else if(typeof define === \"function\" && define.amd){\n",
       "   // require.js is available: use it to load d3/LDAvis\n",
       "   require.config({paths: {d3: \"https://d3js.org/d3.v5\"}});\n",
       "   require([\"d3\"], function(d3){\n",
       "      window.d3 = d3;\n",
       "      LDAvis_load_lib(\"https://cdn.jsdelivr.net/gh/bmabey/pyLDAvis@3.3.1/pyLDAvis/js/ldavis.v3.0.0.js\", function(){\n",
       "        new LDAvis(\"#\" + \"ldavis_el1181627899333752642114887312\", ldavis_el1181627899333752642114887312_data);\n",
       "      });\n",
       "    });\n",
       "}else{\n",
       "    // require.js not available: dynamically load d3 & LDAvis\n",
       "    LDAvis_load_lib(\"https://d3js.org/d3.v5.js\", function(){\n",
       "         LDAvis_load_lib(\"https://cdn.jsdelivr.net/gh/bmabey/pyLDAvis@3.3.1/pyLDAvis/js/ldavis.v3.0.0.js\", function(){\n",
       "                 new LDAvis(\"#\" + \"ldavis_el1181627899333752642114887312\", ldavis_el1181627899333752642114887312_data);\n",
       "            })\n",
       "         });\n",
       "}\n",
       "</script>"
      ],
      "text/plain": [
       "<IPython.core.display.HTML object>"
      ]
     },
     "execution_count": 74,
     "metadata": {},
     "output_type": "execute_result"
    }
   ],
   "source": [
    "import pyLDAvis.gensim_models\n",
    "lda_display = pyLDAvis.gensim_models.prepare(lda_model, corpus, id2word, sort_topics=False)\n",
    "pyLDAvis.display(lda_display)\n"
   ]
  },
  {
   "cell_type": "markdown",
   "id": "537bdead",
   "metadata": {},
   "source": [
    "### Model Performance\n",
    "\n",
    "#### Perplexity: Measurement of how well the model reproduces the held-out data \n",
    "#### Coherence: Degree of semantic similarity between high scoring words in a topic"
   ]
  },
  {
   "cell_type": "code",
   "execution_count": 75,
   "id": "83414432",
   "metadata": {},
   "outputs": [
    {
     "name": "stdout",
     "output_type": "stream",
     "text": [
      "\n",
      "Perplexity:  -7.298893798489513\n",
      "\n",
      "Coherence Score:  0.25420780412743527\n"
     ]
    }
   ],
   "source": [
    "# Compute Perplexity\n",
    "print('\\nPerplexity: ', lda_model.log_perplexity(corpus))  # a measure of how good the model is. lower the better.\n",
    "\n",
    "# Compute Coherence Score\n",
    "coherence_model_lda = CoherenceModel(model=lda_model, texts=data_lemmatized, dictionary=id2word, coherence='c_v')\n",
    "coherence_lda = coherence_model_lda.get_coherence()\n",
    "print('\\nCoherence Score: ', coherence_lda)"
   ]
  },
  {
   "cell_type": "markdown",
   "id": "292df4ad",
   "metadata": {},
   "source": [
    "### Model Interpretation\n",
    "\n",
    "#### 6 topics have been created from the data based on topic interpretability and coherence score.\n",
    "#### Topic 1: covid , individual , case , state , vaccine , analysis , pandemic , patient , impact , symptom\n",
    "#### Topic 2: use , covid , news , trust , pandemic , prejudice , result , high , livestock , wellbeing\n",
    "#### Topic 3: find , firm , study , bocv , negative , however , pandemic , viral , calf , virus\n",
    "#### Topic 4: covid , discrimination , experience , use , pandemic , study , teacher , community , people , future\n",
    "#### Topic 5: covid , clinical , disease , sample , use , infection , study , pool , result , observe\n",
    "#### Topic 6: pandemic , covid , study , vaccine , state , report , mutation , gene , current , mask"
   ]
  }
 ],
 "metadata": {
  "kernelspec": {
   "display_name": "Python 3",
   "language": "python",
   "name": "python3"
  },
  "language_info": {
   "codemirror_mode": {
    "name": "ipython",
    "version": 3
   },
   "file_extension": ".py",
   "mimetype": "text/x-python",
   "name": "python",
   "nbconvert_exporter": "python",
   "pygments_lexer": "ipython3",
   "version": "3.8.8"
  }
 },
 "nbformat": 4,
 "nbformat_minor": 5
}
