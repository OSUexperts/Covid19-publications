{
 "cells": [
  {
   "cell_type": "markdown",
   "id": "abd192ee",
   "metadata": {},
   "source": [
    "# Publication Topic Analysis \n",
    "\n",
    "## Objective\n",
    "### A descriptive study of publications across OSU have been performed to understand the variety and depth of research across the university regarding Covid-19.\n",
    "\n",
    "## Data Source\n",
    "### Elements Coronavirus Publications report\n",
    "\n",
    "## Scope of Analysis\n",
    "### TimeFrame: 3/1/2020 - Present"
   ]
  },
  {
   "cell_type": "code",
   "execution_count": null,
   "id": "94d65d83",
   "metadata": {},
   "outputs": [],
   "source": []
  },
  {
   "cell_type": "markdown",
   "id": "b45266b7",
   "metadata": {},
   "source": [
    "### Importing required packages"
   ]
  },
  {
   "cell_type": "code",
   "execution_count": 1,
   "id": "a29a541b",
   "metadata": {},
   "outputs": [],
   "source": [
    "import pandas as pd\n",
    "import string\n",
    "import numpy as np\n",
    "import matplotlib.pyplot as plt\n",
    "from matplotlib.pyplot import figure\n",
    "from matplotlib import cm\n",
    "from mycolorpy import colorlist as mcp\n",
    "import squarify\n",
    "import requests\n",
    "import io\n",
    "import os"
   ]
  },
  {
   "cell_type": "markdown",
   "id": "201d93d6",
   "metadata": {
    "collapsed": true
   },
   "source": [
    "### Importing the base dataset"
   ]
  },
  {
   "cell_type": "code",
   "execution_count": 2,
   "id": "d579a673",
   "metadata": {},
   "outputs": [],
   "source": [
    "df = pd.read_csv(r'./Data/Covid19publications_input_data.csv')"
   ]
  },
  {
   "cell_type": "markdown",
   "id": "d574b44e",
   "metadata": {
    "collapsed": true
   },
   "source": [
    "### Data Cleaning Operations\n",
    "#### a) Subset all publications after March 1st 2020 based on Publication date.\n",
    "#### b) The title and abstract column have been cleaned to remove punctuations and convert them to lowercase. The extra white spaces have also been removed.\n",
    "#### c) Author's department name has been combined with their First and Last Name.\n",
    "#### d) The topic and abstract column have been combined for performing topic modelling on it."
   ]
  },
  {
   "cell_type": "code",
   "execution_count": 3,
   "id": "ec687a6d",
   "metadata": {},
   "outputs": [],
   "source": [
    "df['publication-date'] = pd.to_datetime(df['publication-date'])\n",
    "df = df[df['publication-date'] >= '3/1/2020']"
   ]
  },
  {
   "cell_type": "code",
   "execution_count": 4,
   "id": "72640e17",
   "metadata": {
    "scrolled": false
   },
   "outputs": [
    {
     "name": "stderr",
     "output_type": "stream",
     "text": [
      "<ipython-input-4-9bcdb0035466>:1: FutureWarning: The default value of regex will change from True to False in a future version.\n",
      "  df['title_cleaned'] = df['title'].str.replace('[{}]'.format(string.punctuation), '').str.lower()\n",
      "<ipython-input-4-9bcdb0035466>:6: FutureWarning: The default value of regex will change from True to False in a future version.\n",
      "  df_topic['abs_cleaned'] = df_topic['abstract'].str.replace('[{}]'.format(string.punctuation), '').str.lower()\n",
      "<ipython-input-4-9bcdb0035466>:6: SettingWithCopyWarning: \n",
      "A value is trying to be set on a copy of a slice from a DataFrame.\n",
      "Try using .loc[row_indexer,col_indexer] = value instead\n",
      "\n",
      "See the caveats in the documentation: https://pandas.pydata.org/pandas-docs/stable/user_guide/indexing.html#returning-a-view-versus-a-copy\n",
      "  df_topic['abs_cleaned'] = df_topic['abstract'].str.replace('[{}]'.format(string.punctuation), '').str.lower()\n",
      "<ipython-input-4-9bcdb0035466>:7: SettingWithCopyWarning: \n",
      "A value is trying to be set on a copy of a slice from a DataFrame.\n",
      "Try using .loc[row_indexer,col_indexer] = value instead\n",
      "\n",
      "See the caveats in the documentation: https://pandas.pydata.org/pandas-docs/stable/user_guide/indexing.html#returning-a-view-versus-a-copy\n",
      "  df_topic['abs_cleaned'] = df_topic['abs_cleaned'].str.strip()\n",
      "C:\\Users\\ammitra\\anaconda3\\lib\\site-packages\\pandas\\core\\generic.py:5494: SettingWithCopyWarning: \n",
      "A value is trying to be set on a copy of a slice from a DataFrame.\n",
      "Try using .loc[row_indexer,col_indexer] = value instead\n",
      "\n",
      "See the caveats in the documentation: https://pandas.pydata.org/pandas-docs/stable/user_guide/indexing.html#returning-a-view-versus-a-copy\n",
      "  self[name] = value\n",
      "<ipython-input-4-9bcdb0035466>:9: SettingWithCopyWarning: \n",
      "A value is trying to be set on a copy of a slice from a DataFrame.\n",
      "Try using .loc[row_indexer,col_indexer] = value instead\n",
      "\n",
      "See the caveats in the documentation: https://pandas.pydata.org/pandas-docs/stable/user_guide/indexing.html#returning-a-view-versus-a-copy\n",
      "  df_topic['topic_abstract'] = df_topic['title_cleaned']  + df_topic['abs_cleaned']\n"
     ]
    }
   ],
   "source": [
    "df['title_cleaned'] = df['title'].str.replace('[{}]'.format(string.punctuation), '').str.lower()\n",
    "df['title_cleaned'] = df['title_cleaned'].str.strip()\n",
    "df['Full Name'] = df['First Name'] +' '+df['Last Name']+ ' ( '+ df['Primary Group Descriptor']+' ) '\n",
    "\n",
    "df_topic = df[['ID','Publication ID','title_cleaned','abstract']]\n",
    "df_topic['abs_cleaned'] = df_topic['abstract'].str.replace('[{}]'.format(string.punctuation), '').str.lower()\n",
    "df_topic['abs_cleaned'] = df_topic['abs_cleaned'].str.strip()\n",
    "df_topic.abs_cleaned = df_topic.abs_cleaned.fillna('')\n",
    "df_topic['topic_abstract'] = df_topic['title_cleaned']  + df_topic['abs_cleaned']"
   ]
  },
  {
   "cell_type": "markdown",
   "id": "2da324be",
   "metadata": {
    "collapsed": true
   },
   "source": [
    "### Topic Modelling\n",
    "#### Algorithm: Latent Dirichlet Allocation (LDA): A statistical model which helps distribute the documents into a fixed number of topics.\n",
    "\n",
    "#### Source: https://towardsdatascience.com/light-on-math-machine-learning-intuitive-guide-to-latent-dirichlet-allocation-437c81220158"
   ]
  },
  {
   "cell_type": "code",
   "execution_count": null,
   "id": "96ffdb78",
   "metadata": {},
   "outputs": [],
   "source": []
  },
  {
   "cell_type": "markdown",
   "id": "c9c01c5a",
   "metadata": {},
   "source": [
    "### Importing required packages"
   ]
  },
  {
   "cell_type": "code",
   "execution_count": 5,
   "id": "d0ca20ee",
   "metadata": {},
   "outputs": [],
   "source": [
    "import re\n",
    "import numpy as np\n",
    "import pandas as pd\n",
    "from pprint import pprint\n",
    "\n",
    "# Gensim\n",
    "import gensim\n",
    "import gensim.corpora as corpora\n",
    "from gensim.utils import simple_preprocess\n",
    "from gensim.models import CoherenceModel\n",
    "\n",
    "# spacy for lemmatization\n",
    "import spacy\n",
    "\n",
    "# Plotting tools\n",
    "#import pyLDAvis\n",
    "#import pyLDAvis.gensim  # don't skip this\n",
    "import matplotlib.pyplot as plt\n",
    "%matplotlib inline\n",
    "\n",
    "# Enable logging for gensim - optional\n",
    "import logging\n",
    "logging.basicConfig(format='%(asctime)s : %(levelname)s : %(message)s', level=logging.ERROR)\n",
    "\n",
    "import warnings\n",
    "warnings.filterwarnings(\"ignore\",category=DeprecationWarning)"
   ]
  },
  {
   "cell_type": "markdown",
   "id": "dc788ab4",
   "metadata": {},
   "source": [
    "### Removing Stopwords"
   ]
  },
  {
   "cell_type": "code",
   "execution_count": 6,
   "id": "1e949aec",
   "metadata": {},
   "outputs": [],
   "source": [
    "# NLTK Stop words\n",
    "from nltk.corpus import stopwords\n",
    "stop_words = stopwords.words('english')"
   ]
  },
  {
   "cell_type": "markdown",
   "id": "5a7fb352",
   "metadata": {},
   "source": [
    "### Preprocessing text for Modelling"
   ]
  },
  {
   "cell_type": "code",
   "execution_count": 7,
   "id": "80d20ff9",
   "metadata": {
    "scrolled": true
   },
   "outputs": [],
   "source": [
    "data = df_topic.topic_abstract.values.tolist()\n",
    "\n",
    "def sent_to_words(sentences):\n",
    "    for sentence in sentences:\n",
    "        yield(gensim.utils.simple_preprocess(str(sentence), deacc=True))  # deacc=True removes punctuations\n",
    "\n",
    "data_words = list(sent_to_words(data))\n",
    "\n",
    "#print(data_words[:1])"
   ]
  },
  {
   "cell_type": "markdown",
   "id": "dcaa62a1",
   "metadata": {},
   "source": [
    "### Identifying phrases through bigrams and trigrams"
   ]
  },
  {
   "cell_type": "code",
   "execution_count": 8,
   "id": "7220755b",
   "metadata": {},
   "outputs": [],
   "source": [
    "# Build the bigram and trigram models\n",
    "bigram = gensim.models.Phrases(data_words, min_count=5, threshold=50) # higher threshold fewer phrases.\n",
    "trigram = gensim.models.Phrases(bigram[data_words], threshold=50)  \n",
    "\n",
    "# Faster way to get a sentence clubbed as a trigram/bigram\n",
    "bigram_mod = gensim.models.phrases.Phraser(bigram)\n",
    "trigram_mod = gensim.models.phrases.Phraser(trigram)\n"
   ]
  },
  {
   "cell_type": "markdown",
   "id": "34499f8a",
   "metadata": {},
   "source": [
    "### Defining functions for Text Cleaning"
   ]
  },
  {
   "cell_type": "code",
   "execution_count": 9,
   "id": "38716ef6",
   "metadata": {},
   "outputs": [],
   "source": [
    "# Define functions for stopwords, bigrams, trigrams and lemmatization\n",
    "def remove_stopwords(texts):\n",
    "    return [[word for word in simple_preprocess(str(doc)) if word not in stop_words] for doc in texts]\n",
    "\n",
    "def make_bigrams(texts):\n",
    "    return [bigram_mod[doc] for doc in texts]\n",
    "\n",
    "def make_trigrams(texts):\n",
    "    return [trigram_mod[bigram_mod[doc]] for doc in texts]\n",
    "\n",
    "def lemmatization(texts, allowed_postags=['NOUN', 'ADJ', 'VERB', 'ADV']):\n",
    "    \"\"\"https://spacy.io/api/annotation\"\"\"\n",
    "    texts_out = []\n",
    "    for sent in texts:\n",
    "        doc = nlp(\" \".join(sent)) \n",
    "        texts_out.append([token.lemma_ for token in doc if token.pos_ in allowed_postags])\n",
    "    return texts_out"
   ]
  },
  {
   "cell_type": "code",
   "execution_count": 10,
   "id": "77d88e39",
   "metadata": {},
   "outputs": [],
   "source": [
    "# Remove Stop Words\n",
    "data_words_nostops = remove_stopwords(data_words)\n",
    "\n",
    "# Form Bigrams\n",
    "data_words_bigrams = make_bigrams(data_words_nostops)\n",
    "\n",
    "# Initialize spacy 'en' model, keeping only tagger component (for efficiency)\n",
    "# python3 -m spacy download en\n",
    "nlp = spacy.load('en_core_web_sm', disable=['parser', 'ner'])\n",
    "\n",
    "# Do lemmatization keeping only noun, adj, vb, adv\n",
    "data_lemmatized = lemmatization(data_words_bigrams, allowed_postags=['NOUN', 'ADJ', 'VERB', 'ADV'])\n",
    "\n",
    "#print(data_lemmatized[:1])"
   ]
  },
  {
   "cell_type": "markdown",
   "id": "4cca07cc",
   "metadata": {},
   "source": [
    "### Creating the bag of words model to represent the text"
   ]
  },
  {
   "cell_type": "code",
   "execution_count": 11,
   "id": "b056a3e3",
   "metadata": {},
   "outputs": [],
   "source": [
    "# Create Dictionary\n",
    "id2word = corpora.Dictionary(data_lemmatized)\n",
    "\n",
    "# Create Corpus\n",
    "texts = data_lemmatized\n",
    "\n",
    "# Term Document Frequency\n",
    "corpus = [id2word.doc2bow(text) for text in texts]\n",
    "\n",
    "# View\n",
    "#print(corpus[:1])"
   ]
  },
  {
   "cell_type": "code",
   "execution_count": 12,
   "id": "5597bdfb",
   "metadata": {
    "scrolled": false
   },
   "outputs": [
    {
     "data": {
      "text/plain": [
       "[[('also', 1),\n",
       "  ('analysis', 1),\n",
       "  ('associate', 1),\n",
       "  ('current', 1),\n",
       "  ('detect', 1),\n",
       "  ('different', 1),\n",
       "  ('different_geographical', 1),\n",
       "  ('essential', 1),\n",
       "  ('flexibility', 1),\n",
       "  ('gene', 3),\n",
       "  ('gene_possibly', 1),\n",
       "  ('genomes_showe', 1),\n",
       "  ('identify', 1),\n",
       "  ('include', 1),\n",
       "  ('indicate', 1),\n",
       "  ('influences_conformational', 1),\n",
       "  ('location', 1),\n",
       "  ('motion', 1),\n",
       "  ('mutation', 3),\n",
       "  ('oklahoma_unite', 2),\n",
       "  ('orf', 1),\n",
       "  ('pandemic', 3),\n",
       "  ('pathogenicity', 1),\n",
       "  ('peak', 1),\n",
       "  ('presence', 1),\n",
       "  ('report', 2),\n",
       "  ('role', 1),\n",
       "  ('sarscov_viruse', 2),\n",
       "  ('sequence', 1),\n",
       "  ('sequenced_previously', 1),\n",
       "  ('similarity', 1),\n",
       "  ('state', 3),\n",
       "  ('statesgenomic_sequence', 1),\n",
       "  ('study', 2),\n",
       "  ('time_point', 1),\n",
       "  ('understand', 1)]]"
      ]
     },
     "execution_count": 12,
     "metadata": {},
     "output_type": "execute_result"
    }
   ],
   "source": [
    "# Human readable format of corpus (term-frequency)\n",
    "[[(id2word[id], freq) for id, freq in cp] for cp in corpus[:1]]"
   ]
  },
  {
   "cell_type": "markdown",
   "id": "4f0d3a4b",
   "metadata": {},
   "source": [
    "### Developing the LDA Model with the Bag of words representation\n",
    "\n",
    "### Model Parameters:\n",
    "#### corpus: Bag of words corpus\n",
    "#### id2word: Mapping of word-id to a token\n",
    "#### num_topics: Specified number of latent topics\n",
    "#### chunksize: Number of documents to be used in each training chunk\n",
    "#### update_every: Number of documents to be iterated through for each update\n",
    "#### passes: Number of passes through the corpus during training\n",
    "#### alpha: A-priori belief on document-topic distribution\n",
    "#### per_word_topics: the model computes a list of topics, sorted in descending order of most likely topics for each word\n",
    "\n",
    "#### Model Information: https://radimrehurek.com/gensim/models/ldamodel.html"
   ]
  },
  {
   "cell_type": "code",
   "execution_count": 13,
   "id": "0ef4140f",
   "metadata": {},
   "outputs": [],
   "source": [
    "# Build LDA model\n",
    "lda_model = gensim.models.ldamodel.LdaModel(corpus=corpus,\n",
    "                                           id2word=id2word,\n",
    "                                           num_topics=6, \n",
    "                                           random_state=100,\n",
    "                                           update_every=1,\n",
    "                                           chunksize=100,\n",
    "                                           passes=10,\n",
    "                                           alpha='auto',\n",
    "                                           per_word_topics=True)"
   ]
  },
  {
   "cell_type": "markdown",
   "id": "f6700dad",
   "metadata": {},
   "source": [
    "### Identifying Top 10 words in each topic"
   ]
  },
  {
   "cell_type": "code",
   "execution_count": 14,
   "id": "73514aa7",
   "metadata": {
    "scrolled": true
   },
   "outputs": [
    {
     "name": "stdout",
     "output_type": "stream",
     "text": [
      "[(0,\n",
      "  '0.010*\"learn\" + 0.009*\"increase\" + 0.009*\"bocv\" + 0.008*\"covid\" + '\n",
      "  '0.008*\"infection\" + 0.008*\"state\" + 0.008*\"analysis\" + 0.008*\"calf\" + '\n",
      "  '0.008*\"study\" + 0.007*\"bovine\"'),\n",
      " (1,\n",
      "  '0.030*\"covid\" + 0.017*\"pandemic\" + 0.014*\"use\" + 0.013*\"study\" + '\n",
      "  '0.013*\"discrimination\" + 0.010*\"disease\" + 0.010*\"experience\" + '\n",
      "  '0.010*\"infection\" + 0.009*\"result\" + 0.009*\"clinical\"'),\n",
      " (2,\n",
      "  '0.014*\"covid\" + 0.012*\"livestock\" + 0.008*\"impact\" + 0.007*\"mask\" + '\n",
      "  '0.007*\"food\" + 0.007*\"rate\" + 0.007*\"pandemic\" + 0.007*\"incentive\" + '\n",
      "  '0.006*\"increase\" + 0.006*\"case\"'),\n",
      " (3,\n",
      "  '0.019*\"curriculum\" + 0.014*\"time\" + 0.011*\"covid\" + 0.009*\"take\" + '\n",
      "  '0.008*\"call\" + 0.008*\"understanding\" + 0.008*\"article\" + '\n",
      "  '0.008*\"consciousness\" + 0.008*\"everyday\" + 0.008*\"heightened\"'),\n",
      " (4,\n",
      "  '0.025*\"covid\" + 0.018*\"sample\" + 0.015*\"vaccine\" + 0.011*\"pool\" + '\n",
      "  '0.011*\"use\" + 0.009*\"negative\" + 0.008*\"study\" + 0.008*\"result\" + '\n",
      "  '0.007*\"vaccination\" + 0.007*\"outbreak\"'),\n",
      " (5,\n",
      "  '0.024*\"pandemic\" + 0.014*\"gene\" + 0.014*\"state\" + 0.013*\"mutation\" + '\n",
      "  '0.012*\"study\" + 0.010*\"supply_chain\" + 0.010*\"mapping\" + 0.010*\"firm\" + '\n",
      "  '0.010*\"covid\" + 0.010*\"understand\"')]\n"
     ]
    }
   ],
   "source": [
    "# Print the Keyword in the 10 topics\n",
    "pprint(lda_model.print_topics())\n",
    "doc_lda = lda_model[corpus]"
   ]
  },
  {
   "cell_type": "markdown",
   "id": "be34dde4",
   "metadata": {},
   "source": [
    "### Visual Representation of the topics"
   ]
  },
  {
   "cell_type": "code",
   "execution_count": 15,
   "id": "a00c3a68",
   "metadata": {
    "scrolled": false
   },
   "outputs": [
    {
     "data": {
      "text/html": [
       "\n",
       "<link rel=\"stylesheet\" type=\"text/css\" href=\"https://cdn.jsdelivr.net/gh/bmabey/pyLDAvis@3.3.1/pyLDAvis/js/ldavis.v1.0.0.css\">\n",
       "\n",
       "\n",
       "<div id=\"ldavis_el1222418884648059522833335416\"></div>\n",
       "<script type=\"text/javascript\">\n",
       "\n",
       "var ldavis_el1222418884648059522833335416_data = {\"mdsDat\": {\"x\": [0.0586518063940157, 0.0455087535619539, 0.05080991677538551, -0.08887401878742533, 0.12588671813902122, -0.1919831760829509], \"y\": [0.16204530957589242, -0.15016656408954493, 0.035611452236790304, 0.06552724072175181, -0.06403107001543264, -0.04898636842945696], \"topics\": [1, 2, 3, 4, 5, 6], \"cluster\": [1, 1, 1, 1, 1, 1], \"Freq\": [13.719815030994187, 34.281839637628174, 15.804757858142684, 4.9421809414082345, 18.148286388242756, 13.10312014358396]}, \"tinfo\": {\"Term\": [\"sample\", \"discrimination\", \"pandemic\", \"gene\", \"state\", \"mutation\", \"livestock\", \"vaccine\", \"pool\", \"curriculum\", \"time\", \"experience\", \"supply_chain\", \"mapping\", \"firm\", \"bocv\", \"learn\", \"take\", \"infection\", \"teacher\", \"sarscov_viruse\", \"oklahoma_unite\", \"understand\", \"mask\", \"article\", \"report\", \"price\", \"practice\", \"crisis\", \"increase\", \"bocv\", \"calf\", \"bovine\", \"metagenome\", \"tissue\", \"inoculate\", \"moreover\", \"weight\", \"representation\", \"limit\", \"downstream\", \"ltcfs\", \"dualinfection\", \"dual\", \"bvdv\", \"isolate\", \"diarrhea_virus\", \"eating_disord\", \"lgbtq\", \"helpful\", \"advance\", \"chief\", \"pandemicrelate\", \"cancel\", \"big\", \"promise\", \"cattle\", \"pneumonia\", \"later\", \"conference\", \"pathogen\", \"alone\", \"learn\", \"gain\", \"robust\", \"lesion\", \"collect\", \"respiratory\", \"pathogenesis\", \"increase\", \"sequence\", \"show\", \"analysis\", \"state\", \"play\", \"pathogenicity\", \"novel\", \"however\", \"infection\", \"case\", \"impact\", \"viral\", \"study\", \"covid\", \"datum\", \"use\", \"result\", \"disease\", \"clinical\", \"discrimination\", \"medium\", \"worry\", \"trust\", \"cat\", \"crosssectional\", \"type\", \"racial\", \"prejudice\", \"wellbeing\", \"ace\", \"often\", \"webbase\", \"acute\", \"pulmonary_lesion\", \"serve\", \"relationship\", \"phase\", \"asian\", \"reside\", \"early\", \"objective\", \"assessment\", \"depression\", \"stage\", \"subjective\", \"quantify\", \"preservice\", \"racismrelate\", \"load\", \"thus\", \"control\", \"observe\", \"experience\", \"perceive\", \"patient\", \"news\", \"level\", \"support\", \"survey\", \"infection\", \"covid\", \"use\", \"clinical\", \"pandemic\", \"disease\", \"people\", \"study\", \"associate\", \"result\", \"also\", \"identify\", \"concern\", \"high\", \"significant\", \"future\", \"report\", \"may\", \"role\", \"livestock\", \"incentive\", \"box\", \"countylevel\", \"wellness\", \"precaution\", \"rurality\", \"plant\", \"socioeconomic\", \"lottery\", \"cash\", \"socially\", \"strength\", \"ban\", \"import\", \"somaliland\", \"export\", \"wear\", \"violence\", \"sex\", \"partner\", \"environmental\", \"wind\", \"economy\", \"partial\", \"specifically\", \"dramatically\", \"foot\", \"immune\", \"transfer\", \"mask\", \"animal\", \"dynamic\", \"rate\", \"transmission\", \"county\", \"highly\", \"agricultural\", \"financial\", \"system\", \"food\", \"area\", \"generate\", \"behavior\", \"daily\", \"health\", \"likely\", \"impact\", \"insight\", \"human\", \"economic\", \"case\", \"covid\", \"increase\", \"infectious\", \"current\", \"virus\", \"may\", \"pandemic\", \"disease\", \"people\", \"risk\", \"state\", \"call\", \"curriculum\", \"consciousness\", \"heightened\", \"vowel\", \"nasalization\", \"landscape\", \"awareness\", \"calling\", \"collaboration\", \"crisisthis\", \"deepen\", \"equity\", \"interdependence\", \"interrelated\", \"intertwined\", \"meaning\", \"principal\", \"recreate\", \"reimagine\", \"relational\", \"storytelle\", \"thread\", \"transform\", \"urgent\", \"wakeup\", \"recording\", \"remote\", \"consumer\", \"separation\", \"offer\", \"everyday\", \"time\", \"respond\", \"understanding\", \"crisis\", \"take\", \"article\", \"teacher\", \"situation\", \"school\", \"practice\", \"community\", \"covid\", \"leader\", \"education\", \"university\", \"include\", \"life\", \"daily\", \"due\", \"also\", \"pool\", \"dementia\", \"testing\", \"trade\", \"consistently_detected\", \"individual_positive\", \"product\", \"mall\", \"sme\", \"swab\", \"communitybase\", \"specimen\", \"asthma\", \"setting\", \"faster_reporte\", \"untested\", \"assign\", \"nasopharyngeal_swab\", \"highthroughput_testing\", \"shortage\", \"expect\", \"indigenous\", \"hesitancy\", \"projection\", \"bipoc\", \"infrastructure\", \"income\", \"laboratory\", \"sustainable\", \"national\", \"site\", \"demand\", \"create\", \"sample\", \"vaccine\", \"rapid\", \"could\", \"vaccination\", \"global\", \"medical\", \"great\", \"outbreak\", \"negative\", \"country\", \"covid\", \"know\", \"care\", \"effect\", \"population\", \"use\", \"result\", \"impact\", \"group\", \"model\", \"study\", \"risk\", \"clinical\", \"factor\", \"people\", \"gene\", \"mutation\", \"firm\", \"mapping\", \"supply_chain\", \"sarscov_viruse\", \"oklahoma_unite\", \"price\", \"stock\", \"hotel\", \"travel\", \"cash_reserve\", \"motion\", \"essential\", \"similarity\", \"influences_conformational\", \"time_point\", \"statesgenomic_sequence\", \"different_geographical\", \"orf\", \"sequenced_previously\", \"gene_possibly\", \"genomes_showe\", \"peak\", \"tourism\", \"flexibility\", \"performance\", \"return\", \"industry\", \"generation\", \"market\", \"understand\", \"state\", \"pandemic\", \"student\", \"report\", \"study\", \"response\", \"paper\", \"include\", \"identify\", \"find\", \"practice\", \"different\", \"analysis\", \"covid\", \"well\", \"use\", \"experience\", \"role\", \"also\"], \"Freq\": [49.0, 56.0, 139.0, 23.0, 45.0, 22.0, 25.0, 45.0, 26.0, 13.0, 19.0, 52.0, 17.0, 17.0, 17.0, 16.0, 24.0, 20.0, 61.0, 18.0, 14.0, 14.0, 24.0, 17.0, 15.0, 38.0, 13.0, 17.0, 11.0, 43.0, 15.733395815315848, 13.134120781025947, 12.953034023503355, 10.535354175608473, 9.551455815096618, 7.935625416818497, 6.476801394040288, 9.58616413040035, 11.017783990599497, 6.286666291988241, 5.99230729346913, 5.336577244778636, 5.33643002565893, 5.33643002565893, 5.336406293615043, 5.33639141080786, 5.336331879579126, 6.482267406656903, 6.482267406656903, 4.6718286171730545, 4.653508283768366, 4.369212878571432, 4.9203686814690055, 3.885425912460499, 3.880674274588686, 3.704498038960538, 3.704230550669269, 3.70038032822713, 5.33642399208845, 3.4016642873455805, 8.387057964588863, 5.336453757702817, 17.188610958471106, 7.896754742359807, 5.611990831991357, 10.534898037680206, 8.10167168984919, 11.493200383264869, 8.14039836309243, 16.079388098810433, 9.384140078836987, 9.22065927997428, 13.891586481717662, 14.08518686441524, 7.334959341278257, 8.41925792352515, 9.522369178527876, 9.658441477891277, 14.289837530327452, 11.180203685533833, 11.891064478887891, 9.588601692874166, 13.028065092561235, 14.500492805581102, 8.909027778123795, 11.115553575605366, 10.398916644112035, 10.382469130984258, 8.791149509423041, 55.44972892268043, 19.975268558869175, 17.273579480031053, 16.732234376884648, 16.138751950362714, 16.108518252856076, 15.290332947966942, 14.698223455549394, 14.698010379392636, 12.40044435367321, 11.942824109065345, 11.941482332323503, 11.875259870925369, 11.284226815129928, 10.804610477641747, 10.804506954792002, 17.74214399950178, 10.800284629629097, 22.492116081873032, 9.844506401590348, 9.783336458305502, 9.000000160884458, 8.82547772250974, 8.706230455441661, 8.527438453322114, 8.52643739741584, 8.522348747389014, 8.226528183937429, 8.226387473267874, 7.386518151661976, 12.712254172029363, 11.989342051344513, 23.09978917941974, 42.55412271776168, 22.205188935275526, 17.23164971065564, 21.29179778628825, 25.039807383643673, 15.081270060520946, 23.352784953129905, 41.61597252138973, 128.2279928824634, 61.75435891886607, 38.45497165468043, 72.19695602140632, 44.03657796672178, 35.63566051700761, 57.772592716633696, 29.90732714921, 40.4703343919946, 29.968847864092524, 27.977343625877868, 18.801413919923128, 23.689915656472753, 18.188271197635515, 19.967193776589056, 18.975862987734434, 19.190225642041653, 18.217329961051355, 24.441290958063668, 13.320509605149981, 9.663025637868019, 8.077154283001112, 8.075180350397263, 6.4883729993191395, 6.486478765402581, 5.370484922397106, 5.370247216428615, 4.901977115882383, 4.901674538889352, 4.900803877067137, 4.899097305757283, 4.898905936234891, 4.898905936234891, 4.898905936234891, 4.896534900287966, 7.199741703954255, 4.373933463231917, 4.3738027944539155, 4.2548728917074925, 4.078717941392322, 3.90301338133324, 3.783770244211183, 3.7819496852439234, 3.7794278241649435, 3.7585467680945457, 3.43188733393165, 3.4243194338724057, 3.3126115296150926, 14.799671831564819, 7.774747808091295, 3.9529409020057367, 14.374482115050922, 6.407271244439643, 9.238998039422304, 5.15204842838036, 6.036693199934469, 9.586465781435223, 11.516893096042137, 14.4669084973572, 7.77525194862486, 5.6269543713725385, 10.665752818569386, 8.71739700623755, 11.237274885324183, 9.198942961955824, 15.325863879829138, 6.610503823762134, 10.430882640578897, 7.854565116684905, 12.095872550432231, 27.785314427854253, 12.122742128796563, 7.834633957759553, 10.561673746797938, 9.226351896552757, 9.932151423731142, 13.46260495075952, 10.756110741921772, 9.662494622195716, 8.06870900233497, 7.889028311836067, 5.201365609591858, 11.972373382121658, 4.849241395743001, 4.849241395743001, 3.619293191038265, 2.915529582141432, 2.8257842030239213, 2.4748139332665815, 2.4748139332665815, 2.4748139332665815, 2.4748139332665815, 2.4748139332665815, 2.4748139332665815, 2.4748139332665815, 2.4748139332665815, 2.4748139332665815, 2.4748139332665815, 2.4748139332665815, 2.4748139332665815, 2.4748139332665815, 2.4748139332665815, 2.4748139332665815, 2.4748139332665815, 2.4748139332665815, 2.4748139332665815, 2.4748139332665815, 2.21109409494822, 2.2103854133119056, 1.9914761045805192, 3.1744280380332213, 3.881427153153506, 4.849241395743001, 8.663779203039173, 3.6620798267188728, 5.17798708482063, 4.848988988584861, 5.778774658788228, 4.89260297493882, 4.849229804139871, 2.817847432361324, 2.8267257309880947, 4.005015086977095, 4.044210354218183, 6.693477334999814, 2.8229720801047655, 2.9775626258677677, 2.8068846737018367, 3.363664726389237, 2.77549606137822, 2.8266686423426832, 2.7858094004723912, 2.892095707465263, 26.081749418597596, 15.273111970031412, 13.605171239849797, 15.053325749064186, 13.111298710293239, 13.111280619841331, 9.272396272428498, 8.787866397138863, 8.472574827749183, 7.608594531229309, 7.301058444987568, 7.119675593063209, 7.048137433060001, 6.626103684251615, 6.626079208934327, 6.626079208934327, 6.626073888213177, 6.626067503347797, 6.626066439203567, 6.626061650554532, 6.125616434161635, 6.1177614535281934, 5.451503411511579, 5.130324464169652, 5.075292245317334, 4.958154972988277, 4.945823137579399, 8.104429874818026, 4.4596486273823635, 4.452636981051166, 6.626111133261225, 14.230628395873447, 9.773975334498417, 40.703452947269355, 34.05074246483608, 13.516432252513535, 15.898233920622625, 16.39702279652159, 13.577126782813464, 8.556844409319618, 15.766917458501482, 15.95511349385815, 20.96597819091686, 11.633842989706936, 57.51069163885352, 8.607019873906404, 9.458068157671706, 13.013504919704259, 11.572954785157155, 25.591098053625124, 17.46908106711857, 14.039296327471089, 11.693470183344216, 12.758305042908235, 17.478731791140067, 11.487151771751348, 13.203212039867468, 10.76229183906302, 11.617412602796373, 23.0217564115677, 22.03439109175353, 16.597151389012627, 16.736863415810184, 16.736863415810184, 14.078978904561083, 14.078975831299092, 13.261005639234387, 11.611403837234041, 11.61139231250157, 9.760400420466198, 7.787821064232417, 7.602436522652902, 7.600461183507399, 7.109857163801026, 7.109857163801026, 7.1098563954855285, 7.1098563954855285, 7.109854858854532, 7.109854858854532, 7.109854858854532, 7.109854858854532, 7.109853322223536, 7.109851785592539, 6.419953256372091, 9.577259360141007, 5.937650885622217, 4.455434298028419, 4.447120740181701, 4.3942314379265, 8.995473962071804, 15.926746944766611, 22.663962640539843, 40.05589799651683, 9.572574940549357, 14.745750753132288, 18.998132710545637, 11.018092170062998, 9.74565106785001, 13.210621045502851, 11.849942749915586, 11.196659448228258, 8.937713539558926, 9.459128547368353, 10.59021803751093, 15.992620778938964, 9.3526592272252, 11.323266317575468, 9.606600560696279, 9.317725458159574, 9.327061259776457], \"Total\": [49.0, 56.0, 139.0, 23.0, 45.0, 22.0, 25.0, 45.0, 26.0, 13.0, 19.0, 52.0, 17.0, 17.0, 17.0, 16.0, 24.0, 20.0, 61.0, 18.0, 14.0, 14.0, 24.0, 17.0, 15.0, 38.0, 13.0, 17.0, 11.0, 43.0, 16.38839971437248, 13.789025225114518, 13.608153822827115, 11.189662254830997, 10.22000927606824, 8.590277109731046, 7.138502648267298, 10.580380503276954, 12.165927669131712, 6.956864388189239, 6.6546849756845585, 5.990899197886768, 5.990901682896354, 5.9909026852665015, 5.990900591854821, 5.990901171757557, 5.990899513012325, 7.317867049705241, 7.317867049705241, 5.326333353483724, 5.326025782504346, 5.02346368745536, 5.686519926309834, 4.53971497627502, 4.539174078611046, 4.358924398976937, 4.358886936838272, 4.35881871125505, 6.342673493147444, 4.0558837348047625, 10.014950396288045, 6.484645504973338, 24.19912497595804, 10.866458530970204, 7.237585123948166, 16.52313395125192, 11.759267326441961, 21.964020865895986, 13.327238371494506, 43.28861365761328, 17.50334918515146, 17.615246531254353, 39.04041289959589, 45.04000704939902, 11.793544554482814, 16.042881182686184, 21.171359639856302, 23.41219365399715, 61.38873435493503, 36.93177673495854, 48.75869670939752, 29.015084827486476, 114.43378796882897, 250.71058986869107, 28.918350873019513, 112.5699394830026, 74.25829466096937, 73.62997583669464, 60.827253068422415, 56.11006827592453, 20.63122489838225, 17.932716543655175, 17.39495586329265, 16.794187242728825, 16.794407020373857, 15.955931539059213, 15.354851242588738, 15.354850194743703, 13.076287013058252, 12.598533941298822, 12.598315667402778, 12.540375452497406, 11.939677283843038, 11.460034516702054, 11.46002220205008, 18.825691511030684, 11.459991283853388, 23.94921172971324, 10.500437495770022, 10.441980289897787, 9.66247568448986, 9.483225208203105, 9.362209788252445, 9.182988652351584, 9.182902611178209, 9.18238782975803, 8.88226614793244, 8.882314028733747, 8.044369528462568, 13.872440691922833, 13.20314018095533, 26.648122875851406, 52.72199911308837, 26.35484651191085, 20.156743992369847, 25.77239361669628, 31.654336027132953, 17.66428215832153, 29.580293331470823, 61.38873435493503, 250.71058986869107, 112.5699394830026, 60.827253068422415, 139.9169144540778, 73.62997583669464, 57.29874008072143, 114.43378796882897, 47.577463282298424, 74.25829466096937, 49.69869262437087, 46.010013811577004, 25.497696984017043, 42.53045284079357, 26.722290259991052, 41.00045215188212, 38.04455165320819, 42.156162123752544, 37.75250024408581, 25.104803975554677, 13.97886272626751, 10.328802531114153, 8.73920271257936, 8.739305412214526, 7.149806746140467, 7.149802106629852, 6.031552443633473, 6.031293584608502, 5.560290783547041, 5.560305996578547, 5.560325257550662, 5.560322034818131, 5.560184949910977, 5.560184949910977, 5.560184949910977, 5.5600595521826754, 8.25458972286976, 5.03206698586941, 5.0320261957841295, 4.913180218567714, 4.73709639642045, 4.560975420026913, 4.441980012596444, 4.442003739370604, 4.441870988010629, 4.441937685809102, 4.089863823176618, 4.089949426011509, 3.9708544720873338, 17.763877246893735, 9.524045336859693, 4.742501450429669, 18.684254055120093, 8.080517607362134, 12.51119916975587, 6.351294786058868, 7.663119734701053, 13.61684492025474, 17.345870578782293, 23.614166445447136, 11.828705374564898, 7.315045198422734, 19.92302663900651, 14.838327291186447, 25.418713630516056, 17.548323601461775, 48.75869670939752, 10.036027960119014, 25.361329322720334, 14.555462909962738, 36.93177673495854, 250.71058986869107, 43.28861365761328, 15.588724134345314, 35.65695503714317, 26.324696379428566, 42.156162123752544, 139.9169144540778, 73.62997583669464, 57.29874008072143, 29.79785054392398, 45.04000704939902, 5.893265622250402, 13.651989846396614, 5.541332313905892, 5.541332313905892, 4.31135963950513, 3.607543835239902, 3.518957606094964, 3.1667915841170413, 3.1667915841170413, 3.1667915841170413, 3.1667915841170413, 3.1667915841170413, 3.1667915841170413, 3.1667915841170413, 3.1667915841170413, 3.1667915841170413, 3.1667915841170413, 3.1667915841170413, 3.1667915841170413, 3.1667915841170413, 3.1667915841170413, 3.1667915841170413, 3.1667915841170413, 3.1667915841170413, 3.1667915841170413, 3.1667915841170413, 2.903826620650101, 2.9040162415570125, 2.683370628549463, 4.342205650242172, 5.551098649673495, 7.158568818612554, 19.79927582456462, 5.942957172418262, 11.302788410106118, 11.833714002034371, 20.859075328808792, 15.547837972895879, 18.552442354122604, 4.463565006025409, 4.505496207452525, 17.319401304031693, 22.890541094302396, 250.71058986869107, 6.143951232415265, 9.809468761738673, 8.680258865707334, 51.21552644709327, 8.938107721751855, 14.838327291186447, 16.707506685608607, 49.69869262437087, 26.7331778960885, 15.924393324725262, 14.256818241420051, 15.794699412217552, 13.76261842043017, 13.762618918615022, 9.932283426167697, 9.43910585930014, 9.129221253901733, 8.26515342341779, 7.955548253821164, 7.771433658404276, 7.711042590623768, 7.277340230059796, 7.277334396705748, 7.277334429468783, 7.277334288125838, 7.27733411616407, 7.277333278472741, 7.277333068527753, 6.781968248366297, 6.781048945882307, 6.103848306008275, 5.793633327496996, 5.734183517352001, 5.60976361715003, 5.608431069693048, 9.252609559645872, 5.114691708097165, 5.114122787477464, 7.629112149580642, 16.549404203271244, 11.369105253515933, 49.929465549067906, 45.40917593319042, 17.3327261279342, 22.39477737458513, 24.715263101452386, 19.828028742720164, 10.691041245007424, 25.14482888076049, 25.6525098974972, 40.86753366140438, 17.648754969250508, 250.71058986869107, 11.3368698635769, 13.653800464358717, 24.441504317697547, 20.62429304492829, 112.5699394830026, 74.25829466096937, 48.75869670939752, 28.092589689433684, 36.83082712810288, 114.43378796882897, 29.79785054392398, 60.827253068422415, 24.02045444433871, 57.29874008072143, 23.673540347766117, 22.686428641953707, 17.25759984554667, 17.440885015140626, 17.440885015140626, 14.730426126191054, 14.730426366913305, 13.924851105962547, 12.262855697901136, 12.262854182775326, 10.41319034035135, 8.439272243182113, 8.25466179980103, 8.254490637400606, 7.761286949054282, 7.761287535941843, 7.761287148401773, 7.761287162381355, 7.761287350146811, 7.761287419018206, 7.761287474145958, 7.761287814862397, 7.761287673340206, 7.761286949451124, 7.0828046087961605, 10.580611854380383, 6.589660394180288, 5.108887218638913, 5.107659691314729, 5.108645165304768, 10.598825926264407, 24.012603352542353, 45.04000704939902, 139.9169144540778, 15.62491833091086, 38.04455165320819, 114.43378796882897, 28.632270696740235, 19.78989670484828, 51.21552644709327, 46.010013811577004, 37.71446459447404, 17.319401304031693, 23.606031388170287, 39.04041289959589, 250.71058986869107, 23.527994281288308, 112.5699394830026, 52.72199911308837, 37.75250024408581, 49.69869262437087], \"Category\": [\"Default\", \"Default\", \"Default\", \"Default\", \"Default\", \"Default\", \"Default\", \"Default\", \"Default\", \"Default\", \"Default\", \"Default\", \"Default\", \"Default\", \"Default\", \"Default\", \"Default\", \"Default\", \"Default\", \"Default\", \"Default\", \"Default\", \"Default\", \"Default\", \"Default\", \"Default\", \"Default\", \"Default\", \"Default\", \"Default\", \"Topic1\", \"Topic1\", \"Topic1\", \"Topic1\", \"Topic1\", \"Topic1\", \"Topic1\", \"Topic1\", \"Topic1\", \"Topic1\", \"Topic1\", \"Topic1\", \"Topic1\", \"Topic1\", \"Topic1\", \"Topic1\", \"Topic1\", \"Topic1\", \"Topic1\", \"Topic1\", \"Topic1\", \"Topic1\", \"Topic1\", \"Topic1\", \"Topic1\", \"Topic1\", \"Topic1\", \"Topic1\", \"Topic1\", \"Topic1\", \"Topic1\", \"Topic1\", \"Topic1\", \"Topic1\", \"Topic1\", \"Topic1\", \"Topic1\", \"Topic1\", \"Topic1\", \"Topic1\", \"Topic1\", \"Topic1\", \"Topic1\", \"Topic1\", \"Topic1\", \"Topic1\", \"Topic1\", \"Topic1\", \"Topic1\", \"Topic1\", \"Topic1\", \"Topic1\", \"Topic1\", \"Topic1\", \"Topic1\", \"Topic1\", \"Topic1\", \"Topic1\", \"Topic1\", \"Topic2\", \"Topic2\", \"Topic2\", \"Topic2\", \"Topic2\", \"Topic2\", \"Topic2\", \"Topic2\", \"Topic2\", \"Topic2\", \"Topic2\", \"Topic2\", \"Topic2\", \"Topic2\", \"Topic2\", \"Topic2\", \"Topic2\", \"Topic2\", \"Topic2\", \"Topic2\", \"Topic2\", \"Topic2\", \"Topic2\", \"Topic2\", \"Topic2\", \"Topic2\", \"Topic2\", \"Topic2\", \"Topic2\", \"Topic2\", \"Topic2\", \"Topic2\", \"Topic2\", \"Topic2\", \"Topic2\", \"Topic2\", \"Topic2\", \"Topic2\", \"Topic2\", \"Topic2\", \"Topic2\", \"Topic2\", \"Topic2\", \"Topic2\", \"Topic2\", \"Topic2\", \"Topic2\", \"Topic2\", \"Topic2\", \"Topic2\", \"Topic2\", \"Topic2\", \"Topic2\", \"Topic2\", \"Topic2\", \"Topic2\", \"Topic2\", \"Topic2\", \"Topic2\", \"Topic3\", \"Topic3\", \"Topic3\", \"Topic3\", \"Topic3\", \"Topic3\", \"Topic3\", \"Topic3\", \"Topic3\", \"Topic3\", \"Topic3\", \"Topic3\", \"Topic3\", \"Topic3\", \"Topic3\", \"Topic3\", \"Topic3\", \"Topic3\", \"Topic3\", \"Topic3\", \"Topic3\", \"Topic3\", \"Topic3\", \"Topic3\", \"Topic3\", \"Topic3\", \"Topic3\", \"Topic3\", \"Topic3\", \"Topic3\", \"Topic3\", \"Topic3\", \"Topic3\", \"Topic3\", \"Topic3\", \"Topic3\", \"Topic3\", \"Topic3\", \"Topic3\", \"Topic3\", \"Topic3\", \"Topic3\", \"Topic3\", \"Topic3\", \"Topic3\", \"Topic3\", \"Topic3\", \"Topic3\", \"Topic3\", \"Topic3\", \"Topic3\", \"Topic3\", \"Topic3\", \"Topic3\", \"Topic3\", \"Topic3\", \"Topic3\", \"Topic3\", \"Topic3\", \"Topic3\", \"Topic3\", \"Topic3\", \"Topic3\", \"Topic4\", \"Topic4\", \"Topic4\", \"Topic4\", \"Topic4\", \"Topic4\", \"Topic4\", \"Topic4\", \"Topic4\", \"Topic4\", \"Topic4\", \"Topic4\", \"Topic4\", \"Topic4\", \"Topic4\", \"Topic4\", \"Topic4\", \"Topic4\", \"Topic4\", \"Topic4\", \"Topic4\", \"Topic4\", \"Topic4\", \"Topic4\", \"Topic4\", \"Topic4\", \"Topic4\", \"Topic4\", \"Topic4\", \"Topic4\", \"Topic4\", \"Topic4\", \"Topic4\", \"Topic4\", \"Topic4\", \"Topic4\", \"Topic4\", \"Topic4\", \"Topic4\", \"Topic4\", \"Topic4\", \"Topic4\", \"Topic4\", \"Topic4\", \"Topic4\", \"Topic4\", \"Topic4\", \"Topic4\", \"Topic4\", \"Topic4\", \"Topic4\", \"Topic4\", \"Topic5\", \"Topic5\", \"Topic5\", \"Topic5\", \"Topic5\", \"Topic5\", \"Topic5\", \"Topic5\", \"Topic5\", \"Topic5\", \"Topic5\", \"Topic5\", \"Topic5\", \"Topic5\", \"Topic5\", \"Topic5\", \"Topic5\", \"Topic5\", \"Topic5\", \"Topic5\", \"Topic5\", \"Topic5\", \"Topic5\", \"Topic5\", \"Topic5\", \"Topic5\", \"Topic5\", \"Topic5\", \"Topic5\", \"Topic5\", \"Topic5\", \"Topic5\", \"Topic5\", \"Topic5\", \"Topic5\", \"Topic5\", \"Topic5\", \"Topic5\", \"Topic5\", \"Topic5\", \"Topic5\", \"Topic5\", \"Topic5\", \"Topic5\", \"Topic5\", \"Topic5\", \"Topic5\", \"Topic5\", \"Topic5\", \"Topic5\", \"Topic5\", \"Topic5\", \"Topic5\", \"Topic5\", \"Topic5\", \"Topic5\", \"Topic5\", \"Topic5\", \"Topic5\", \"Topic6\", \"Topic6\", \"Topic6\", \"Topic6\", \"Topic6\", \"Topic6\", \"Topic6\", \"Topic6\", \"Topic6\", \"Topic6\", \"Topic6\", \"Topic6\", \"Topic6\", \"Topic6\", \"Topic6\", \"Topic6\", \"Topic6\", \"Topic6\", \"Topic6\", \"Topic6\", \"Topic6\", \"Topic6\", \"Topic6\", \"Topic6\", \"Topic6\", \"Topic6\", \"Topic6\", \"Topic6\", \"Topic6\", \"Topic6\", \"Topic6\", \"Topic6\", \"Topic6\", \"Topic6\", \"Topic6\", \"Topic6\", \"Topic6\", \"Topic6\", \"Topic6\", \"Topic6\", \"Topic6\", \"Topic6\", \"Topic6\", \"Topic6\", \"Topic6\", \"Topic6\", \"Topic6\", \"Topic6\", \"Topic6\", \"Topic6\", \"Topic6\"], \"logprob\": [30.0, 29.0, 28.0, 27.0, 26.0, 25.0, 24.0, 23.0, 22.0, 21.0, 20.0, 19.0, 18.0, 17.0, 16.0, 15.0, 14.0, 13.0, 12.0, 11.0, 10.0, 9.0, 8.0, 7.0, 6.0, 5.0, 4.0, 3.0, 2.0, 1.0, -4.6987, -4.8793, -4.8932, -5.0998, -5.1978, -5.3831, -5.5863, -5.1942, -5.055, -5.6161, -5.664, -5.7799, -5.7799, -5.7799, -5.7799, -5.7799, -5.7799, -5.5854, -5.5854, -5.9129, -5.9169, -5.9799, -5.8611, -6.0973, -6.0985, -6.1449, -6.145, -6.1461, -5.7799, -6.2302, -5.3278, -5.7799, -4.6102, -5.388, -5.7296, -5.0998, -5.3624, -5.0127, -5.3576, -4.6769, -5.2155, -5.233, -4.8232, -4.8094, -5.4618, -5.324, -5.2008, -5.1867, -4.7949, -5.0403, -4.9787, -5.1939, -4.8874, -4.7803, -5.2674, -5.0461, -5.1128, -5.1144, -5.2807, -4.3548, -5.3758, -5.5211, -5.5529, -5.589, -5.5909, -5.643, -5.6825, -5.6826, -5.8525, -5.8901, -5.8902, -5.8958, -5.9469, -5.9903, -5.9903, -5.4943, -5.9907, -5.2571, -6.0833, -6.0896, -6.173, -6.1926, -6.2062, -6.227, -6.2271, -6.2276, -6.2629, -6.2629, -6.3706, -5.8277, -5.8862, -5.2304, -4.6195, -5.2699, -5.5235, -5.3119, -5.1498, -5.6568, -5.2195, -4.6418, -3.5165, -4.2471, -4.7208, -4.0909, -4.5852, -4.7969, -4.3137, -4.9722, -4.6697, -4.9701, -5.0389, -5.4363, -5.2052, -5.4695, -5.3762, -5.4271, -5.4159, -5.4679, -4.3997, -5.0067, -5.3277, -5.5069, -5.5072, -5.7259, -5.7262, -5.915, -5.9151, -6.0063, -6.0064, -6.0066, -6.0069, -6.0069, -6.0069, -6.0069, -6.0074, -5.6219, -6.1203, -6.1203, -6.1479, -6.1902, -6.2342, -6.2652, -6.2657, -6.2664, -6.2719, -6.3628, -6.3651, -6.3982, -4.9014, -5.5451, -6.2215, -4.9305, -5.7385, -5.3725, -5.9566, -5.7981, -5.3356, -5.1521, -4.9241, -5.545, -5.8684, -5.2289, -5.4306, -5.1767, -5.3769, -4.8664, -5.7073, -5.2512, -5.5349, -5.1031, -4.2715, -5.1009, -5.5374, -5.2387, -5.3739, -5.3002, -4.996, -5.2205, -5.3277, -5.508, -5.5305, -4.7845, -3.9509, -4.8546, -4.8546, -5.1472, -5.3634, -5.3947, -5.5273, -5.5273, -5.5273, -5.5273, -5.5273, -5.5273, -5.5273, -5.5273, -5.5273, -5.5273, -5.5273, -5.5273, -5.5273, -5.5273, -5.5273, -5.5273, -5.5273, -5.5273, -5.5273, -5.64, -5.6403, -5.7446, -5.2783, -5.0773, -4.8546, -4.2743, -5.1354, -4.789, -4.8547, -4.6793, -4.8457, -4.8546, -5.3975, -5.3943, -5.0459, -5.0362, -4.5323, -5.3957, -5.3423, -5.4014, -5.2204, -5.4126, -5.3944, -5.4089, -5.3715, -4.473, -5.0081, -5.1238, -5.0226, -5.1607, -5.1607, -5.5072, -5.5609, -5.5974, -5.7049, -5.7462, -5.7714, -5.7815, -5.8432, -5.8432, -5.8432, -5.8432, -5.8432, -5.8432, -5.8432, -5.9217, -5.923, -6.0383, -6.0991, -6.1098, -6.1332, -6.1357, -5.6418, -6.2392, -6.2407, -5.8432, -5.0788, -5.4545, -4.0279, -4.2064, -5.1303, -4.968, -4.9371, -5.1258, -5.5875, -4.9763, -4.9644, -4.6913, -5.2803, -3.6823, -5.5816, -5.4874, -5.1682, -5.2856, -4.492, -4.8738, -5.0924, -5.2752, -5.188, -4.8732, -5.293, -5.1538, -5.3582, -5.2817, -4.2721, -4.3159, -4.5993, -4.5909, -4.5909, -4.7638, -4.7638, -4.8237, -4.9565, -4.9565, -5.1302, -5.3559, -5.38, -5.3803, -5.447, -5.447, -5.447, -5.447, -5.447, -5.447, -5.447, -5.447, -5.447, -5.447, -5.5491, -5.1491, -5.6272, -5.9144, -5.9162, -5.9282, -5.2118, -4.6405, -4.2877, -3.7182, -5.1496, -4.7175, -4.4642, -5.009, -5.1317, -4.8275, -4.9362, -4.9929, -5.2182, -5.1615, -5.0486, -4.6364, -5.1728, -4.9816, -5.146, -5.1766, -5.1756], \"loglift\": [30.0, 29.0, 28.0, 27.0, 26.0, 25.0, 24.0, 23.0, 22.0, 21.0, 20.0, 19.0, 18.0, 17.0, 16.0, 15.0, 14.0, 13.0, 12.0, 11.0, 10.0, 9.0, 8.0, 7.0, 6.0, 5.0, 4.0, 3.0, 2.0, 1.0, 1.9455, 1.9377, 1.937, 1.9261, 1.9187, 1.9071, 1.8891, 1.8876, 1.8872, 1.885, 1.8815, 1.8707, 1.8706, 1.8706, 1.8706, 1.8706, 1.8706, 1.8651, 1.8651, 1.8552, 1.8513, 1.8468, 1.8416, 1.8307, 1.8296, 1.8237, 1.8236, 1.8226, 1.8136, 1.8104, 1.8089, 1.7915, 1.6443, 1.6671, 1.7319, 1.5363, 1.6138, 1.3387, 1.4934, 0.996, 1.363, 1.339, 0.953, 0.8239, 1.5114, 1.3416, 1.1873, 1.1009, 0.5287, 0.7914, 0.5752, 0.8791, -0.1866, -0.8638, 0.8089, -0.3289, 0.0205, 0.0274, 0.052, 1.0587, 1.0382, 1.0331, 1.0317, 1.0307, 1.0289, 1.0279, 1.0268, 1.0268, 1.0175, 1.0171, 1.017, 1.0161, 1.0141, 1.0117, 1.0117, 1.0113, 1.0113, 1.0078, 1.0061, 1.0054, 0.9995, 0.9987, 0.9979, 0.9965, 0.9964, 0.996, 0.9939, 0.9938, 0.9852, 0.9832, 0.9741, 0.9277, 0.8563, 0.8992, 0.9138, 0.8796, 0.8361, 0.9125, 0.8342, 0.6818, 0.4001, 0.4701, 0.612, 0.4089, 0.5565, 0.5956, 0.3871, 0.6063, 0.4636, 0.5647, 0.5731, 0.7659, 0.4854, 0.6858, 0.3511, 0.375, 0.2836, 0.3419, 1.8181, 1.7966, 1.7782, 1.7661, 1.7658, 1.7478, 1.7475, 1.7288, 1.7288, 1.7188, 1.7188, 1.7186, 1.7183, 1.7182, 1.7182, 1.7182, 1.7178, 1.7081, 1.7047, 1.7047, 1.701, 1.6952, 1.6891, 1.6845, 1.684, 1.6834, 1.6778, 1.6695, 1.6672, 1.6636, 1.6623, 1.6419, 1.6628, 1.5826, 1.6128, 1.5417, 1.6356, 1.6063, 1.4939, 1.4353, 1.3549, 1.4253, 1.5825, 1.22, 1.313, 1.0286, 1.199, 0.6875, 1.4273, 0.9564, 1.228, 0.7287, -0.3549, 0.5721, 1.1569, 0.6281, 0.7964, 0.3993, -0.4963, -0.0787, 0.0648, 0.5384, 0.1028, 2.8825, 2.8761, 2.874, 2.874, 2.8324, 2.7944, 2.788, 2.7608, 2.7608, 2.7608, 2.7608, 2.7608, 2.7608, 2.7608, 2.7608, 2.7608, 2.7608, 2.7608, 2.7608, 2.7608, 2.7608, 2.7608, 2.7608, 2.7608, 2.7608, 2.7608, 2.7348, 2.7344, 2.7092, 2.6941, 2.6496, 2.6179, 2.1809, 2.5232, 2.2267, 2.1152, 1.7238, 1.8512, 1.6656, 2.5474, 2.5412, 1.5431, 1.2739, -0.6158, 2.2297, 1.8151, 1.8784, 0.2844, 1.8379, 1.3492, 1.216, 0.1634, 1.6819, 1.6648, 1.6598, 1.6585, 1.6581, 1.6581, 1.6378, 1.6351, 1.6319, 1.6238, 1.6207, 1.619, 1.6167, 1.6128, 1.6128, 1.6128, 1.6128, 1.6128, 1.6128, 1.6128, 1.6048, 1.6037, 1.5936, 1.585, 1.5845, 1.5831, 1.5809, 1.5741, 1.5695, 1.5681, 1.5656, 1.5556, 1.5554, 1.5023, 1.4187, 1.4579, 1.364, 1.2963, 1.3279, 1.4839, 1.2399, 1.2317, 1.0392, 1.2898, 0.2343, 1.4311, 1.3394, 1.0763, 1.1288, 0.2253, 0.2595, 0.4616, 0.8301, 0.6464, -0.1724, 0.7534, 0.179, 0.9037, 0.1108, 2.0044, 2.0032, 1.9933, 1.9911, 1.9911, 1.9871, 1.9871, 1.9835, 1.9777, 1.9777, 1.9676, 1.952, 1.95, 1.9498, 1.9447, 1.9447, 1.9447, 1.9447, 1.9447, 1.9447, 1.9447, 1.9447, 1.9447, 1.9447, 1.9341, 1.9327, 1.9281, 1.8955, 1.8938, 1.8817, 1.8683, 1.6217, 1.3455, 0.7815, 1.5424, 1.0845, 0.2367, 1.0773, 1.324, 0.6773, 0.6758, 0.8179, 1.3708, 1.1178, 0.7277, -0.7199, 1.1098, -0.2644, 0.3297, 0.6332, 0.3593]}, \"token.table\": {\"Topic\": [2, 2, 1, 3, 5, 1, 5, 2, 3, 4, 5, 6, 1, 2, 3, 4, 5, 6, 2, 3, 2, 3, 6, 2, 4, 6, 2, 5, 2, 5, 1, 2, 3, 5, 6, 5, 4, 3, 2, 3, 5, 1, 5, 1, 1, 3, 1, 1, 4, 4, 1, 2, 5, 1, 2, 3, 5, 3, 6, 2, 1, 1, 1, 2, 5, 4, 1, 4, 5, 6, 2, 3, 4, 5, 5, 2, 3, 5, 1, 4, 5, 4, 1, 2, 1, 2, 5, 2, 3, 5, 3, 5, 3, 1, 2, 3, 4, 5, 6, 3, 5, 2, 4, 4, 2, 1, 2, 3, 5, 6, 4, 6, 2, 3, 4, 6, 1, 2, 3, 4, 5, 6, 4, 2, 5, 5, 2, 1, 1, 2, 3, 5, 6, 6, 2, 1, 2, 3, 5, 1, 3, 1, 1, 1, 2, 3, 4, 6, 3, 2, 1, 3, 5, 3, 2, 4, 6, 2, 3, 5, 6, 3, 4, 6, 2, 4, 5, 2, 6, 3, 2, 3, 5, 6, 5, 2, 3, 5, 1, 2, 3, 5, 6, 6, 6, 2, 3, 5, 3, 1, 2, 5, 6, 1, 2, 6, 6, 3, 6, 6, 6, 1, 2, 3, 5, 2, 5, 6, 1, 2, 3, 5, 2, 3, 5, 4, 1, 5, 2, 3, 4, 5, 6, 3, 5, 5, 6, 1, 2, 3, 6, 2, 3, 2, 3, 5, 6, 3, 1, 2, 3, 5, 6, 3, 3, 1, 2, 3, 4, 5, 6, 5, 1, 2, 3, 5, 5, 5, 6, 1, 2, 3, 6, 1, 2, 3, 5, 6, 5, 1, 2, 3, 5, 4, 4, 4, 1, 3, 5, 6, 5, 6, 4, 1, 2, 4, 5, 1, 2, 6, 1, 2, 2, 3, 5, 1, 2, 4, 5, 2, 3, 5, 1, 3, 2, 3, 1, 5, 6, 5, 6, 3, 4, 1, 2, 3, 5, 4, 2, 5, 2, 1, 1, 2, 3, 5, 1, 6, 6, 4, 5, 5, 1, 2, 5, 6, 2, 6, 1, 2, 3, 5, 2, 1, 2, 1, 4, 5, 2, 6, 6, 2, 5, 1, 2, 3, 4, 5, 6, 1, 2, 4, 5, 6, 3, 3, 1, 3, 1, 3, 6, 1, 6, 2, 6, 6, 2, 3, 5, 1, 2, 6, 6, 2, 3, 1, 2, 3, 1, 5, 1, 2, 3, 5, 2, 4, 5, 6, 3, 2, 2, 6, 4, 5, 5, 1, 2, 2, 2, 2, 1, 2, 5, 3, 5, 4, 4, 4, 4, 2, 3, 4, 2, 3, 5, 6, 1, 6, 2, 1, 2, 3, 3, 4, 2, 3, 5, 6, 1, 2, 3, 4, 5, 6, 6, 2, 3, 5, 6, 1, 3, 1, 2, 5, 6, 3, 1, 2, 5, 6, 4, 6, 3, 4, 1, 6, 6, 2, 5, 3, 5, 1, 2, 5, 1, 2, 3, 5, 6, 5, 3, 4, 5, 3, 3, 3, 3, 5, 2, 1, 3, 6, 6, 6, 4, 3, 2, 6, 1, 2, 3, 4, 5, 6, 2, 6, 2, 3, 2, 3, 5, 5, 2, 3, 6, 2, 3, 4, 5, 2, 4, 6, 5, 4, 2, 5, 1, 2, 3, 4, 5, 6, 1, 6, 5, 3, 4, 3, 6, 6, 2, 2, 2, 3, 5, 6, 2, 3, 4, 2, 4, 5, 4, 1, 2, 3, 4, 5, 6, 1, 2, 3, 5, 1, 3, 5, 3, 1, 2, 3, 6, 1, 2, 3, 6, 4, 4, 3, 2, 1, 2, 3, 5, 6, 2, 3, 3, 2], \"Freq\": [0.952491778480924, 0.9212979328080647, 0.9387862928536095, 0.7829709319078083, 0.13049515531796804, 0.7710521718057366, 0.1542104343611473, 0.6036376092776498, 0.10060626821294164, 0.06036376092776498, 0.04024250728517666, 0.18109128278329495, 0.35860276467887753, 0.10245793276539357, 0.025614483191348392, 0.025614483191348392, 0.2561448319134839, 0.2817593151048323, 0.10499740022549327, 0.8399792018039461, 0.2536203164254018, 0.6763208438010714, 0.08454010547513392, 0.4502233694615874, 0.32158812104399104, 0.19295287262639463, 0.9186106101648891, 0.041755027734767684, 0.9490442125338213, 0.9618906762908565, 0.06305506416346023, 0.6305506416346023, 0.06305506416346023, 0.06305506416346023, 0.16814683776922726, 0.9077890463880515, 0.6315540340674601, 0.899250662530579, 0.4015454150092394, 0.5521249456377042, 0.050193176876154925, 0.8812175807154704, 0.8719637215777424, 0.9763003269909352, 0.9553096010858606, 0.9681664423224591, 0.834599059580117, 0.9427787525054756, 0.8484260375303939, 0.6315540340674601, 0.8811125854606244, 0.29295872679855145, 0.6591571352967407, 0.2978464881053968, 0.08123086039238095, 0.3249234415695238, 0.27076953464126985, 0.8992310860367535, 0.9479490374851942, 0.9527105878212312, 0.9176654632160312, 0.7962633451474601, 0.14795999401577808, 0.6247199747332852, 0.2137199913561239, 0.6315540340674601, 0.6803144939150376, 0.0850393117393797, 0.0850393117393797, 0.0850393117393797, 0.39317550262017, 0.17474466783118664, 0.17474466783118664, 0.26211700174678, 0.8798890757324989, 0.7451653383405547, 0.07843845666742681, 0.15687691333485362, 0.7396661729368854, 0.9023100793743363, 0.9445876942066426, 0.7453312556682229, 0.0757395578850579, 0.9088746946206947, 0.22326634091367595, 0.04465326818273519, 0.7144522909237631, 0.05666122067773641, 0.283306103388682, 0.6799346481328369, 0.719355505246554, 0.239785168415518, 0.9154153145440443, 0.0598299417980557, 0.510548836676742, 0.11168255802303731, 0.027920639505759327, 0.23134244161914871, 0.06381860458459275, 0.08795766928894838, 0.8795766928894837, 0.5070259429092608, 0.42252161909105074, 0.6315540340674601, 0.9526981203081398, 0.08413505855659736, 0.2804501951886579, 0.30849521470752367, 0.08413505855659736, 0.2524051756697921, 0.8789927428174399, 0.07324939523478666, 0.13478608206653753, 0.6065373692994189, 0.2021791230998063, 0.06739304103326876, 0.3112210664957695, 0.20748071099717968, 0.17290059249764972, 0.034580118499529945, 0.24206082949670962, 0.06916023699905989, 0.6315540340674601, 0.1208502720360573, 0.8459519042524011, 0.9419511119905593, 0.9613115069577975, 0.8345992098748984, 0.12708616500033093, 0.3388964400008825, 0.08472411000022062, 0.04236205500011031, 0.3812584950009928, 0.9019122323653677, 0.9802162372987018, 0.1358142507364011, 0.5975827032401648, 0.1493956758100412, 0.10865140058912087, 0.9016204406254089, 0.9005079050926391, 0.8345987679446971, 0.8345989075859289, 0.2992666765955488, 0.239413341276439, 0.239413341276439, 0.17956000595732927, 0.05985333531910975, 0.8434367478448743, 0.957672751946737, 0.8199110422813265, 0.5496218189339936, 0.41221636420049523, 0.9004993243231421, 0.2038846392784181, 0.3058269589176272, 0.4077692785568362, 0.20457005980518195, 0.20457005980518195, 0.5318821554934731, 0.04091401196103639, 0.8443991139852186, 0.6315540340674601, 0.9691694316972723, 0.2793854540868453, 0.6984636352171133, 0.8846989222406542, 0.8155988149797821, 0.18967414301855398, 0.8992709436065632, 0.24978711430724482, 0.08326237143574827, 0.45794304289661547, 0.16652474287149654, 0.9618906619391724, 0.14687690222755248, 0.7343845111377624, 0.14687690222755248, 0.18560518027413936, 0.23863523178103632, 0.18560518027413936, 0.10606010301379393, 0.2916652832879333, 0.9850732519091787, 0.9451249263869359, 0.16938984525414866, 0.5928644583895203, 0.16938984525414866, 0.7335207551409095, 0.14633984956491683, 0.48779949854972277, 0.26828972420234753, 0.09755989970994455, 0.7362104200921958, 0.18405260502304896, 0.9715488119701676, 0.9019121783623876, 0.8202273311029872, 0.13670455518383118, 0.7829864612962154, 0.901912194808188, 0.05043365696991683, 0.05043365696991683, 0.2017346278796673, 0.7060711975788356, 0.03976960848459573, 0.6363137357535317, 0.31815686787676584, 0.28477260688461903, 0.24917603102404165, 0.03559657586057738, 0.42715891032692854, 0.2753876573673758, 0.4327520330058762, 0.2753876573673758, 0.9023100793743363, 0.9387320823113177, 0.8191553507445933, 0.5643015391780669, 0.07053769239725836, 0.023512564132419454, 0.258638205456614, 0.11756282066209726, 0.7872410537415192, 0.15744821074830384, 0.9618908097430239, 0.9785650078800956, 0.42712785259627756, 0.04271278525962776, 0.3417022820770221, 0.21356392629813878, 0.5520215372724129, 0.3943010980517235, 0.6085631731098212, 0.043468798079272945, 0.06520319711890941, 0.26081278847563766, 0.733505402516818, 0.2461099416073436, 0.14356413260428377, 0.3076374270091795, 0.28712826520856755, 0.020509161800611967, 0.899250662530579, 0.9299755104949889, 0.1171519735562638, 0.2538292760385716, 0.13667730248230778, 0.0585759867781319, 0.15620263140835175, 0.2538292760385716, 0.8915149242038651, 0.3696122062616814, 0.1848061031308407, 0.27720915469626106, 0.16170534023948563, 0.8848188603097183, 0.9445876600140748, 0.7831375310304565, 0.2280548727239649, 0.6841646181718947, 0.06515853506398997, 0.016289633765997492, 0.19244679514151863, 0.06414893171383954, 0.5131914537107163, 0.25659572685535814, 0.9019122107747732, 0.891303153080127, 0.9312854402493743, 0.2989230412590863, 0.6974870962712014, 0.09964101375302878, 0.6315540340674601, 0.6315540340674601, 0.6315540340674601, 0.8345989787932263, 0.17641553833352192, 0.7938699225008485, 0.08820776916676096, 0.8646209427112351, 0.10807761783890439, 0.8525251895060884, 0.7883111128772348, 0.16276170857672764, 0.4882851257301829, 0.3255234171534553, 0.7025047400221947, 0.16529523294639875, 0.12397142470979906, 0.6657332702411793, 0.30260603192780877, 0.7897812160258519, 0.09477374592310224, 0.12636499456413633, 0.8199110422813265, 0.33564151310228385, 0.33564151310228385, 0.2237610087348559, 0.39889850215760214, 0.5128695027740598, 0.056985500308228874, 0.8624575189630374, 0.9559923281364611, 0.8701738495767279, 0.8992335463452834, 0.8345992537754102, 0.9534801425213916, 0.9747211787270033, 0.09435007301346003, 0.8491506571211404, 0.8444102484790004, 0.11258803313053338, 0.07116397339950628, 0.45070516486353973, 0.23721324466502092, 0.21349192019851881, 0.6315540340674601, 0.18707251746259737, 0.8418263285816882, 0.9694043906025306, 0.9830502252425793, 0.21720934944455242, 0.32581402416682864, 0.10860467472227621, 0.3529651928473977, 0.8405124009383617, 0.969149335735697, 0.969742763271064, 0.8315907268249451, 0.9618906990201166, 0.7821478220652962, 0.07340790430016146, 0.19575441146709724, 0.5138553301011303, 0.2202237129004844, 0.8148253636168061, 0.15520483116510592, 0.4723362207297459, 0.3778689765837967, 0.04723362207297459, 0.09446724414594918, 0.9314383077254972, 0.11257828605701181, 0.8631001931037573, 0.18014451969049733, 0.7205780787619893, 0.18014451969049733, 0.9525082810116533, 0.9504137661246554, 0.9019122243620623, 0.35084286239289547, 0.6237206442540364, 0.02858839487425119, 0.5145911077365214, 0.09291228334131636, 0.007147098718562797, 0.07147098718562797, 0.2858839487425119, 0.8792723959106323, 0.1515925042329825, 0.050530834744327506, 0.303185008465965, 0.505308347443275, 0.9004945143442782, 0.8141366329049653, 0.798805753742438, 0.09985071921780475, 0.6002743987164751, 0.30013719935823757, 0.07503429983955939, 0.49866354483967434, 0.43633060173471505, 0.8433901827812664, 0.09922237444485488, 0.9019122789288235, 0.6282860661383453, 0.17452390726065148, 0.20942868871278175, 0.03794368521736822, 0.8347610747821007, 0.11383105565210465, 0.9105173318641654, 0.9598611139869282, 0.8289739742340607, 0.5935450506556358, 0.1695843001873245, 0.1695843001873245, 0.9176798268006576, 0.972574233451094, 0.19394604175213842, 0.19394604175213842, 0.048486510438034605, 0.5818381252564152, 0.17321614918072517, 0.23095486557430023, 0.05773871639357506, 0.5196484475421755, 0.8391835210425592, 0.9768900256112446, 0.9006710524951104, 0.933582693349839, 0.6315540340674601, 0.9061360428246044, 0.863016300370554, 0.9176575764743297, 0.9598574929218938, 0.980137211241835, 0.9768899589463614, 0.9006661973580854, 0.1730829863609894, 0.05769432878699647, 0.8077206030179506, 0.7492940290096058, 0.2140840082884588, 0.6887463548192988, 0.6315540340674601, 0.6315540340674601, 0.6315540340674601, 0.9561401762826678, 0.05311889868237043, 0.6887013823750804, 0.49941448050677145, 0.07885491797475339, 0.026284972658251127, 0.39427458987376696, 0.9041645075623793, 0.08219677341476177, 0.9523412718782795, 0.5008190470752985, 0.4097610385161533, 0.04552900427957259, 0.3365327970529822, 0.6730655941059644, 0.34925626772376434, 0.2095537606342586, 0.034925626772376435, 0.38418189449614076, 0.1346650908919413, 0.5386603635677653, 0.026933018178388262, 0.013466509089194131, 0.2289306545163002, 0.04039952726758239, 0.7829493642777383, 0.13423787041631538, 0.26847574083263076, 0.3691541436448673, 0.20135680562447308, 0.8290057936792801, 0.13816763227988002, 0.1589298711663459, 0.4767896134990377, 0.07946493558317295, 0.23839480674951885, 0.8391840655892188, 0.1201695218248137, 0.06008476091240685, 0.821158399136227, 0.9504137816561642, 0.6658534070093568, 0.2219511356697856, 0.2302977059467988, 0.6908931178403964, 0.514187308085868, 0.45705538496521597, 0.901912217955858, 0.9598585243606433, 0.9618898909090146, 0.7949084214528197, 0.9618908374927714, 0.510921035594449, 0.39738302768457145, 0.05676900395493878, 0.11226582642475214, 0.6735949585485128, 0.14968776856633617, 0.03742194214158404, 0.9019122789749391, 0.9175379602179234, 0.2240361680965978, 0.6721085042897934, 0.876306946398181, 0.8992279710993945, 0.8290095532341021, 0.899250662530579, 0.9005214268484352, 0.9007347045200569, 0.980073083036564, 0.3108347648490611, 0.17761986562803492, 0.5106571136806004, 0.9019122541849395, 0.9785648869743998, 0.6315540340674601, 0.8992284922870555, 0.3840020071100255, 0.6400033451833759, 0.11360281111677538, 0.5068433111363825, 0.05243206666928094, 0.00873867777821349, 0.14855752222962934, 0.16603487778605633, 0.980082266041288, 0.9747211787270033, 0.8491712182560216, 0.11322282910080288, 0.7775446897117152, 0.20283774514218658, 0.7820608217045663, 0.967919116580882, 0.23060243542303693, 0.6918073062691108, 0.05765060885575923, 0.14382229090743315, 0.33558534545067736, 0.2876445818148663, 0.23970381817905526, 0.48511133080007, 0.2695062948889278, 0.2695062948889278, 0.9819862863458607, 0.6315540340674601, 0.9371097911825417, 0.0720853685525032, 0.10101379554087703, 0.25253448885219254, 0.050506897770438514, 0.4545620799339466, 0.10101379554087703, 0.9019122558094582, 0.9784726931135547, 0.8471220556541371, 0.949685689390022, 0.7555048972678692, 0.6315540340674601, 0.7425266909304694, 0.12375444848841158, 0.9603204851878844, 0.9772948050919693, 0.9400892679490918, 0.16657918932294766, 0.041644797330736914, 0.12493439199221074, 0.6663167572917906, 0.26542122980180904, 0.26542122980180904, 0.44236871633634844, 0.5760196875871123, 0.34561181255226736, 0.9618906576086779, 0.6315540340674601, 0.09771702863588139, 0.550768706856786, 0.01776673247925116, 0.00888336623962558, 0.2309675222302651, 0.09771702863588139, 0.12138248286839827, 0.04046082762279942, 0.16184331049119768, 0.6473732419647907, 0.1321318847280487, 0.1101099039400406, 0.7487473467922761, 0.7949019779014139, 0.3446483117129071, 0.5169724675693607, 0.10339449351387213, 0.03446483117129071, 0.075974285559582, 0.37987142779790994, 0.34188428501811896, 0.151948571119164, 0.9277815664802974, 0.6315540340674601, 0.8480130733337533, 0.9569091488094329, 0.9451455925335389, 0.4250256048367433, 0.042502560483674325, 0.12750768145102298, 0.38252304435306894, 0.9176916955108549, 0.915404557073697, 0.8770053840755838, 0.9479879949373771], \"Term\": [\"ace\", \"acute\", \"advance\", \"agricultural\", \"agricultural\", \"alone\", \"alone\", \"also\", \"also\", \"also\", \"also\", \"also\", \"analysis\", \"analysis\", \"analysis\", \"analysis\", \"analysis\", \"analysis\", \"animal\", \"animal\", \"area\", \"area\", \"area\", \"article\", \"article\", \"article\", \"asian\", \"asian\", \"assessment\", \"assign\", \"associate\", \"associate\", \"associate\", \"associate\", \"associate\", \"asthma\", \"awareness\", \"ban\", \"behavior\", \"behavior\", \"behavior\", \"big\", \"bipoc\", \"bocv\", \"bovine\", \"box\", \"bvdv\", \"calf\", \"call\", \"calling\", \"cancel\", \"care\", \"care\", \"case\", \"case\", \"case\", \"case\", \"cash\", \"cash_reserve\", \"cat\", \"cattle\", \"chief\", \"clinical\", \"clinical\", \"clinical\", \"collaboration\", \"collect\", \"collect\", \"collect\", \"collect\", \"community\", \"community\", \"community\", \"community\", \"communitybase\", \"concern\", \"concern\", \"concern\", \"conference\", \"consciousness\", \"consistently_detected\", \"consumer\", \"control\", \"control\", \"could\", \"could\", \"could\", \"country\", \"country\", \"country\", \"county\", \"county\", \"countylevel\", \"covid\", \"covid\", \"covid\", \"covid\", \"covid\", \"covid\", \"create\", \"create\", \"crisis\", \"crisis\", \"crisisthis\", \"crosssectional\", \"current\", \"current\", \"current\", \"current\", \"current\", \"curriculum\", \"curriculum\", \"daily\", \"daily\", \"daily\", \"daily\", \"datum\", \"datum\", \"datum\", \"datum\", \"datum\", \"datum\", \"deepen\", \"demand\", \"demand\", \"dementia\", \"depression\", \"diarrhea_virus\", \"different\", \"different\", \"different\", \"different\", \"different\", \"different_geographical\", \"discrimination\", \"disease\", \"disease\", \"disease\", \"disease\", \"downstream\", \"dramatically\", \"dual\", \"dualinfection\", \"due\", \"due\", \"due\", \"due\", \"due\", \"dynamic\", \"early\", \"eating_disord\", \"economic\", \"economic\", \"economy\", \"education\", \"education\", \"education\", \"effect\", \"effect\", \"effect\", \"effect\", \"environmental\", \"equity\", \"essential\", \"everyday\", \"everyday\", \"expect\", \"experience\", \"experience\", \"export\", \"factor\", \"factor\", \"factor\", \"factor\", \"faster_reporte\", \"financial\", \"financial\", \"financial\", \"find\", \"find\", \"find\", \"find\", \"find\", \"firm\", \"flexibility\", \"food\", \"food\", \"food\", \"foot\", \"future\", \"future\", \"future\", \"future\", \"gain\", \"gain\", \"gene\", \"gene_possibly\", \"generate\", \"generate\", \"generation\", \"genomes_showe\", \"global\", \"global\", \"global\", \"global\", \"great\", \"great\", \"great\", \"group\", \"group\", \"group\", \"group\", \"health\", \"health\", \"health\", \"heightened\", \"helpful\", \"hesitancy\", \"high\", \"high\", \"high\", \"high\", \"high\", \"highly\", \"highly\", \"highthroughput_testing\", \"hotel\", \"however\", \"however\", \"however\", \"however\", \"human\", \"human\", \"identify\", \"identify\", \"identify\", \"identify\", \"immune\", \"impact\", \"impact\", \"impact\", \"impact\", \"impact\", \"import\", \"incentive\", \"include\", \"include\", \"include\", \"include\", \"include\", \"include\", \"income\", \"increase\", \"increase\", \"increase\", \"increase\", \"indigenous\", \"individual_positive\", \"industry\", \"infection\", \"infection\", \"infection\", \"infection\", \"infectious\", \"infectious\", \"infectious\", \"infectious\", \"influences_conformational\", \"infrastructure\", \"inoculate\", \"insight\", \"insight\", \"insight\", \"interdependence\", \"interrelated\", \"intertwined\", \"isolate\", \"know\", \"know\", \"know\", \"laboratory\", \"laboratory\", \"landscape\", \"later\", \"leader\", \"leader\", \"leader\", \"learn\", \"learn\", \"learn\", \"lesion\", \"lesion\", \"level\", \"level\", \"level\", \"lgbtq\", \"life\", \"life\", \"life\", \"likely\", \"likely\", \"likely\", \"limit\", \"livestock\", \"load\", \"lottery\", \"ltcfs\", \"mall\", \"mapping\", \"market\", \"market\", \"mask\", \"mask\", \"may\", \"may\", \"may\", \"may\", \"meaning\", \"medical\", \"medical\", \"medium\", \"metagenome\", \"model\", \"model\", \"model\", \"model\", \"moreover\", \"motion\", \"mutation\", \"nasalization\", \"nasopharyngeal_swab\", \"national\", \"negative\", \"negative\", \"negative\", \"negative\", \"news\", \"news\", \"novel\", \"novel\", \"novel\", \"novel\", \"objective\", \"observe\", \"observe\", \"offer\", \"offer\", \"offer\", \"often\", \"oklahoma_unite\", \"orf\", \"outbreak\", \"outbreak\", \"pandemic\", \"pandemic\", \"pandemic\", \"pandemic\", \"pandemic\", \"pandemic\", \"pandemicrelate\", \"paper\", \"paper\", \"paper\", \"paper\", \"partial\", \"partner\", \"pathogen\", \"pathogen\", \"pathogenesis\", \"pathogenesis\", \"pathogenesis\", \"pathogenicity\", \"pathogenicity\", \"patient\", \"patient\", \"peak\", \"people\", \"people\", \"people\", \"perceive\", \"perceive\", \"perceive\", \"performance\", \"phase\", \"plant\", \"play\", \"play\", \"play\", \"pneumonia\", \"pool\", \"population\", \"population\", \"population\", \"population\", \"practice\", \"practice\", \"practice\", \"practice\", \"precaution\", \"prejudice\", \"preservice\", \"price\", \"principal\", \"product\", \"projection\", \"promise\", \"pulmonary_lesion\", \"quantify\", \"racial\", \"racismrelate\", \"rapid\", \"rapid\", \"rapid\", \"rate\", \"rate\", \"recording\", \"recreate\", \"reimagine\", \"relational\", \"relationship\", \"relationship\", \"remote\", \"report\", \"report\", \"report\", \"report\", \"representation\", \"representation\", \"reside\", \"respiratory\", \"respiratory\", \"respiratory\", \"respond\", \"respond\", \"response\", \"response\", \"response\", \"response\", \"result\", \"result\", \"result\", \"result\", \"result\", \"result\", \"return\", \"risk\", \"risk\", \"risk\", \"risk\", \"robust\", \"robust\", \"role\", \"role\", \"role\", \"role\", \"rurality\", \"sample\", \"sample\", \"sample\", \"sarscov_viruse\", \"school\", \"school\", \"separation\", \"separation\", \"sequence\", \"sequence\", \"sequenced_previously\", \"serve\", \"setting\", \"sex\", \"shortage\", \"show\", \"show\", \"show\", \"significant\", \"significant\", \"significant\", \"significant\", \"similarity\", \"site\", \"situation\", \"situation\", \"sme\", \"socially\", \"socioeconomic\", \"somaliland\", \"specifically\", \"specimen\", \"stage\", \"state\", \"state\", \"state\", \"statesgenomic_sequence\", \"stock\", \"storytelle\", \"strength\", \"student\", \"student\", \"study\", \"study\", \"study\", \"study\", \"study\", \"study\", \"subjective\", \"supply_chain\", \"support\", \"support\", \"survey\", \"survey\", \"sustainable\", \"swab\", \"system\", \"system\", \"system\", \"take\", \"take\", \"take\", \"take\", \"teacher\", \"teacher\", \"teacher\", \"testing\", \"thread\", \"thus\", \"thus\", \"time\", \"time\", \"time\", \"time\", \"time\", \"time_point\", \"tissue\", \"tourism\", \"trade\", \"transfer\", \"transform\", \"transmission\", \"transmission\", \"travel\", \"trust\", \"type\", \"understand\", \"understand\", \"understand\", \"understand\", \"understanding\", \"understanding\", \"understanding\", \"university\", \"university\", \"untested\", \"urgent\", \"use\", \"use\", \"use\", \"use\", \"use\", \"use\", \"vaccination\", \"vaccination\", \"vaccination\", \"vaccination\", \"vaccine\", \"vaccine\", \"vaccine\", \"violence\", \"viral\", \"viral\", \"viral\", \"viral\", \"virus\", \"virus\", \"virus\", \"virus\", \"vowel\", \"wakeup\", \"wear\", \"webbase\", \"weight\", \"well\", \"well\", \"well\", \"well\", \"wellbeing\", \"wellness\", \"wind\", \"worry\"]}, \"R\": 30, \"lambda.step\": 0.01, \"plot.opts\": {\"xlab\": \"PC1\", \"ylab\": \"PC2\"}, \"topic.order\": [1, 2, 3, 4, 5, 6]};\n",
       "\n",
       "function LDAvis_load_lib(url, callback){\n",
       "  var s = document.createElement('script');\n",
       "  s.src = url;\n",
       "  s.async = true;\n",
       "  s.onreadystatechange = s.onload = callback;\n",
       "  s.onerror = function(){console.warn(\"failed to load library \" + url);};\n",
       "  document.getElementsByTagName(\"head\")[0].appendChild(s);\n",
       "}\n",
       "\n",
       "if(typeof(LDAvis) !== \"undefined\"){\n",
       "   // already loaded: just create the visualization\n",
       "   !function(LDAvis){\n",
       "       new LDAvis(\"#\" + \"ldavis_el1222418884648059522833335416\", ldavis_el1222418884648059522833335416_data);\n",
       "   }(LDAvis);\n",
       "}else if(typeof define === \"function\" && define.amd){\n",
       "   // require.js is available: use it to load d3/LDAvis\n",
       "   require.config({paths: {d3: \"https://d3js.org/d3.v5\"}});\n",
       "   require([\"d3\"], function(d3){\n",
       "      window.d3 = d3;\n",
       "      LDAvis_load_lib(\"https://cdn.jsdelivr.net/gh/bmabey/pyLDAvis@3.3.1/pyLDAvis/js/ldavis.v3.0.0.js\", function(){\n",
       "        new LDAvis(\"#\" + \"ldavis_el1222418884648059522833335416\", ldavis_el1222418884648059522833335416_data);\n",
       "      });\n",
       "    });\n",
       "}else{\n",
       "    // require.js not available: dynamically load d3 & LDAvis\n",
       "    LDAvis_load_lib(\"https://d3js.org/d3.v5.js\", function(){\n",
       "         LDAvis_load_lib(\"https://cdn.jsdelivr.net/gh/bmabey/pyLDAvis@3.3.1/pyLDAvis/js/ldavis.v3.0.0.js\", function(){\n",
       "                 new LDAvis(\"#\" + \"ldavis_el1222418884648059522833335416\", ldavis_el1222418884648059522833335416_data);\n",
       "            })\n",
       "         });\n",
       "}\n",
       "</script>"
      ],
      "text/plain": [
       "<IPython.core.display.HTML object>"
      ]
     },
     "execution_count": 15,
     "metadata": {},
     "output_type": "execute_result"
    }
   ],
   "source": [
    "import pyLDAvis.gensim_models\n",
    "lda_display = pyLDAvis.gensim_models.prepare(lda_model, corpus, id2word, sort_topics=False)\n",
    "pyLDAvis.display(lda_display)\n"
   ]
  },
  {
   "cell_type": "markdown",
   "id": "537bdead",
   "metadata": {},
   "source": [
    "### Model Performance\n",
    "\n",
    "#### Perplexity: Measurement of how well the model reproduces the held-out data \n",
    "#### Coherence: Degree of semantic similarity between high scoring words in a topic"
   ]
  },
  {
   "cell_type": "code",
   "execution_count": 16,
   "id": "83414432",
   "metadata": {},
   "outputs": [
    {
     "name": "stderr",
     "output_type": "stream",
     "text": [
      "C:\\Users\\ammitra\\anaconda3\\lib\\site-packages\\ipykernel\\ipkernel.py:287: DeprecationWarning: `should_run_async` will not call `transform_cell` automatically in the future. Please pass the result to `transformed_cell` argument and any exception that happen during thetransform in `preprocessing_exc_tuple` in IPython 7.17 and above.\n",
      "  and should_run_async(code)\n"
     ]
    },
    {
     "name": "stdout",
     "output_type": "stream",
     "text": [
      "\n",
      "Perplexity:  -7.305992757057797\n",
      "\n",
      "Coherence Score:  0.3470745112316827\n"
     ]
    }
   ],
   "source": [
    "# Compute Perplexity\n",
    "print('\\nPerplexity: ', lda_model.log_perplexity(corpus))  # a measure of how good the model is. lower the better.\n",
    "\n",
    "# Compute Coherence Score\n",
    "coherence_model_lda = CoherenceModel(model=lda_model, texts=data_lemmatized, dictionary=id2word, coherence='c_v')\n",
    "coherence_lda = coherence_model_lda.get_coherence()\n",
    "print('\\nCoherence Score: ', coherence_lda)"
   ]
  },
  {
   "cell_type": "markdown",
   "id": "292df4ad",
   "metadata": {},
   "source": [
    "### Model Interpretation\n",
    "\n",
    "#### 6 topics have been created from the data based on topic interpretability and coherence score.\n",
    "#### Topic 1: covid , individual , case , state , vaccine , analysis , pandemic , patient , impact , symptom\n",
    "#### Topic 2: use , covid , news , trust , pandemic , prejudice , result , high , livestock , wellbeing\n",
    "#### Topic 3: find , firm , study , bocv , negative , however , pandemic , viral , calf , virus\n",
    "#### Topic 4: covid , discrimination , experience , use , pandemic , study , teacher , community , people , future\n",
    "#### Topic 5: covid , clinical , disease , sample , use , infection , study , pool , result , observe\n",
    "#### Topic 6: pandemic , covid , study , vaccine , state , report , mutation , gene , current , mask"
   ]
  }
 ],
 "metadata": {
  "kernelspec": {
   "display_name": "Python 3",
   "language": "python",
   "name": "python3"
  },
  "language_info": {
   "codemirror_mode": {
    "name": "ipython",
    "version": 3
   },
   "file_extension": ".py",
   "mimetype": "text/x-python",
   "name": "python",
   "nbconvert_exporter": "python",
   "pygments_lexer": "ipython3",
   "version": "3.8.8"
  }
 },
 "nbformat": 4,
 "nbformat_minor": 5
}
